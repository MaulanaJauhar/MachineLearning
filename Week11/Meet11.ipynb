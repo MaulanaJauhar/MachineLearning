{
  "nbformat": 4,
  "nbformat_minor": 0,
  "metadata": {
    "colab": {
      "provenance": [],
      "gpuType": "T4",
      "authorship_tag": "ABX9TyOvDtEtt5zK/W9+sjAeIflF",
      "include_colab_link": true
    },
    "kernelspec": {
      "name": "python3",
      "display_name": "Python 3"
    },
    "language_info": {
      "name": "python"
    },
    "accelerator": "GPU"
  },
  "cells": [
    {
      "cell_type": "markdown",
      "metadata": {
        "id": "view-in-github",
        "colab_type": "text"
      },
      "source": [
        "<a href=\"https://colab.research.google.com/github/MaulanaJauhar/MachineLearning/blob/main/Week11/Meet11.ipynb\" target=\"_parent\"><img src=\"https://colab.research.google.com/assets/colab-badge.svg\" alt=\"Open In Colab\"/></a>"
      ]
    },
    {
      "cell_type": "markdown",
      "source": [
        "#Modul 11 - Machine Learning\n",
        "> Convolutional Neural Network (CNN)\n",
        "\n",
        "##Nama : Jauhar Maulana A'la\n",
        "##NIM : 2141720186\n",
        "##Kelas : TI - 3A"
      ],
      "metadata": {
        "id": "VM-g28RQu5ys"
      }
    },
    {
      "cell_type": "markdown",
      "source": [
        "###Praktikum 1\n",
        "> Klasifikasi Kucing dan Anjing"
      ],
      "metadata": {
        "id": "hRdvcXs5vQiT"
      }
    },
    {
      "cell_type": "markdown",
      "source": [
        "####Langkah 1\n",
        "> Import Library"
      ],
      "metadata": {
        "id": "WQpK0oNdvWFC"
      }
    },
    {
      "cell_type": "code",
      "execution_count": 5,
      "metadata": {
        "colab": {
          "base_uri": "https://localhost:8080/"
        },
        "id": "R8Rqr9QWfO4p",
        "outputId": "b3b10b2a-ee1e-4ad8-a4df-5301b3309007"
      },
      "outputs": [
        {
          "output_type": "stream",
          "name": "stdout",
          "text": [
            "Drive already mounted at /content/drive; to attempt to forcibly remount, call drive.mount(\"/content/drive\", force_remount=True).\n"
          ]
        }
      ],
      "source": [
        "import tensorflow as tf\n",
        "from keras.preprocessing.image import ImageDataGenerator\n",
        "from google.colab import drive\n",
        "drive.mount('/content/drive')"
      ]
    },
    {
      "cell_type": "markdown",
      "source": [
        "####Langkah 2\n",
        "> Pra Pengolahan Data"
      ],
      "metadata": {
        "id": "pRhEdSFwwC8G"
      }
    },
    {
      "cell_type": "markdown",
      "source": [
        "#####Langkah 2.1\n",
        "> Pra Pengolahan Data Training"
      ],
      "metadata": {
        "id": "Jv8OFDdWwHP3"
      }
    },
    {
      "cell_type": "code",
      "source": [
        "train_datagen = ImageDataGenerator(rescale = 1./255,\n",
        "                                   shear_range = 0.2,\n",
        "                                   zoom_range = 0.2,\n",
        "                                   horizontal_flip = True)\n",
        "training_set = train_datagen.flow_from_directory('/content/drive/MyDrive/Machine_Learning/dataset/training_set',\n",
        "                                                 target_size = (64, 64),\n",
        "                                                 batch_size = 32,\n",
        "                                                 class_mode = 'binary')"
      ],
      "metadata": {
        "colab": {
          "base_uri": "https://localhost:8080/"
        },
        "id": "8ffD3cJyyray",
        "outputId": "82e6a787-138e-4058-ff8a-b49ca6e2eb91"
      },
      "execution_count": 6,
      "outputs": [
        {
          "output_type": "stream",
          "name": "stdout",
          "text": [
            "Found 8000 images belonging to 2 classes.\n"
          ]
        }
      ]
    },
    {
      "cell_type": "markdown",
      "source": [
        "#####Langkah 2.2\n",
        "> Pra Pengolahan Data Testing"
      ],
      "metadata": {
        "id": "X_5dnvUmwLny"
      }
    },
    {
      "cell_type": "code",
      "source": [
        "test_datagen = ImageDataGenerator(rescale = 1./255)\n",
        "test_set = test_datagen.flow_from_directory('/content/drive/MyDrive/Machine_Learning/dataset/test_set',\n",
        "                                            target_size = (64, 64),\n",
        "                                            batch_size = 32,\n",
        "                                            class_mode = 'binary')"
      ],
      "metadata": {
        "colab": {
          "base_uri": "https://localhost:8080/"
        },
        "id": "2gPQt0Wzytzy",
        "outputId": "23682dab-dccf-4342-b4d8-1135fe33e3b2"
      },
      "execution_count": 7,
      "outputs": [
        {
          "output_type": "stream",
          "name": "stdout",
          "text": [
            "Found 712 images belonging to 2 classes.\n"
          ]
        }
      ]
    },
    {
      "cell_type": "markdown",
      "source": [
        "####Langkah 3\n",
        "> Pembuatan Model CNN"
      ],
      "metadata": {
        "id": "UpDikP8nwQxb"
      }
    },
    {
      "cell_type": "markdown",
      "source": [
        "#####Langkah 3.1\n",
        "> Inisiasi Model CNN"
      ],
      "metadata": {
        "id": "CBCNS8JLwWqA"
      }
    },
    {
      "cell_type": "code",
      "source": [
        "cnn = tf.keras.models.Sequential()"
      ],
      "metadata": {
        "id": "HuyVXlAkywEC"
      },
      "execution_count": 8,
      "outputs": []
    },
    {
      "cell_type": "markdown",
      "source": [
        "#####Langkah 3.2\n",
        "> Pembuatan Layer Konvolusi 1"
      ],
      "metadata": {
        "id": "sQ85KFkbwa2r"
      }
    },
    {
      "cell_type": "code",
      "source": [
        "cnn.add(tf.keras.layers.Conv2D(filters=32, kernel_size=3, activation='relu', input_shape=[64, 64, 3]))"
      ],
      "metadata": {
        "id": "kPQVI0uqyxMm"
      },
      "execution_count": 9,
      "outputs": []
    },
    {
      "cell_type": "markdown",
      "source": [
        "#####Langkah 3.3\n",
        "> Pembuatan Layer Pooling 1"
      ],
      "metadata": {
        "id": "e0ziBC2hwgrX"
      }
    },
    {
      "cell_type": "code",
      "source": [
        "cnn.add(tf.keras.layers.MaxPool2D(pool_size=2, strides=2))"
      ],
      "metadata": {
        "id": "1SD7o0z1yyhz"
      },
      "execution_count": 10,
      "outputs": []
    },
    {
      "cell_type": "markdown",
      "source": [
        "#####Langkah 3.4\n",
        "> Pembuatan Layer Konvolusi 2 dan Pooling 2"
      ],
      "metadata": {
        "id": "XzgdZm6bwnQb"
      }
    },
    {
      "cell_type": "code",
      "source": [
        "cnn.add(tf.keras.layers.Conv2D(filters=32, kernel_size=3, activation='relu'))\n",
        "cnn.add(tf.keras.layers.MaxPool2D(pool_size=2, strides=2))"
      ],
      "metadata": {
        "id": "8t4IfNH0y0NV"
      },
      "execution_count": 11,
      "outputs": []
    },
    {
      "cell_type": "markdown",
      "source": [
        "#####Langkah 3.5\n",
        "> Flattening"
      ],
      "metadata": {
        "id": "gEj8Zncwwtmk"
      }
    },
    {
      "cell_type": "code",
      "source": [
        "cnn.add(tf.keras.layers.Flatten())"
      ],
      "metadata": {
        "id": "EY26A2hoy00_"
      },
      "execution_count": 12,
      "outputs": []
    },
    {
      "cell_type": "markdown",
      "source": [
        "#####Langkah 3.6\n",
        "> Fully Connected Layer 1 (Input)"
      ],
      "metadata": {
        "id": "_nzuBI_bwxt1"
      }
    },
    {
      "cell_type": "code",
      "source": [
        "cnn.add(tf.keras.layers.Dense(units=128, activation='relu'))"
      ],
      "metadata": {
        "id": "CLAlZQX7y3Pm"
      },
      "execution_count": 13,
      "outputs": []
    },
    {
      "cell_type": "markdown",
      "source": [
        "#####Langkah 3.7\n",
        "> Fully Connected Layer 2 (Output)"
      ],
      "metadata": {
        "id": "uVyCmyhfw4H8"
      }
    },
    {
      "cell_type": "code",
      "source": [
        "cnn.add(tf.keras.layers.Dense(units=1, activation='sigmoid'))"
      ],
      "metadata": {
        "id": "oH__lx6Ry4hX"
      },
      "execution_count": 14,
      "outputs": []
    },
    {
      "cell_type": "markdown",
      "source": [
        "#####Langkah 3.8\n",
        "> COmpile Model CNN"
      ],
      "metadata": {
        "id": "5SymGtA4w-H-"
      }
    },
    {
      "cell_type": "code",
      "source": [
        "cnn.compile(optimizer = 'adam', loss = 'binary_crossentropy', metrics = ['accuracy'])"
      ],
      "metadata": {
        "id": "O0jczs7fy6RM"
      },
      "execution_count": 15,
      "outputs": []
    },
    {
      "cell_type": "markdown",
      "source": [
        "####Langkah 4\n",
        "> Fit CNN"
      ],
      "metadata": {
        "id": "cGXkyTvhxCgf"
      }
    },
    {
      "cell_type": "code",
      "source": [
        "cnn.fit(x = training_set, validation_data = test_set, epochs = 25)"
      ],
      "metadata": {
        "colab": {
          "base_uri": "https://localhost:8080/"
        },
        "id": "xz2Fl94iy85N",
        "outputId": "10a8c9af-9fa8-4749-8b64-3ef9f95ade89"
      },
      "execution_count": 16,
      "outputs": [
        {
          "output_type": "stream",
          "name": "stdout",
          "text": [
            "Epoch 1/25\n",
            "250/250 [==============================] - 2928s 12s/step - loss: 0.6599 - accuracy: 0.5943 - val_loss: 0.5478 - val_accuracy: 0.7374\n",
            "Epoch 2/25\n",
            "250/250 [==============================] - 35s 139ms/step - loss: 0.5915 - accuracy: 0.6849 - val_loss: 0.4751 - val_accuracy: 0.7640\n",
            "Epoch 3/25\n",
            "250/250 [==============================] - 33s 132ms/step - loss: 0.5476 - accuracy: 0.7210 - val_loss: 0.3143 - val_accuracy: 0.8694\n",
            "Epoch 4/25\n",
            "250/250 [==============================] - 33s 131ms/step - loss: 0.5227 - accuracy: 0.7372 - val_loss: 0.5958 - val_accuracy: 0.6742\n",
            "Epoch 5/25\n",
            "250/250 [==============================] - 33s 133ms/step - loss: 0.4925 - accuracy: 0.7600 - val_loss: 0.6451 - val_accuracy: 0.6503\n",
            "Epoch 6/25\n",
            "250/250 [==============================] - 33s 132ms/step - loss: 0.4737 - accuracy: 0.7692 - val_loss: 0.2342 - val_accuracy: 0.9031\n",
            "Epoch 7/25\n",
            "250/250 [==============================] - 33s 133ms/step - loss: 0.4707 - accuracy: 0.7785 - val_loss: 0.2380 - val_accuracy: 0.9087\n",
            "Epoch 8/25\n",
            "250/250 [==============================] - 34s 137ms/step - loss: 0.4510 - accuracy: 0.7862 - val_loss: 0.3713 - val_accuracy: 0.8385\n",
            "Epoch 9/25\n",
            "250/250 [==============================] - 34s 137ms/step - loss: 0.4379 - accuracy: 0.7968 - val_loss: 0.1942 - val_accuracy: 0.9410\n",
            "Epoch 10/25\n",
            "250/250 [==============================] - 33s 132ms/step - loss: 0.4267 - accuracy: 0.8009 - val_loss: 0.5000 - val_accuracy: 0.7584\n",
            "Epoch 11/25\n",
            "250/250 [==============================] - 33s 131ms/step - loss: 0.4048 - accuracy: 0.8142 - val_loss: 0.3917 - val_accuracy: 0.8230\n",
            "Epoch 12/25\n",
            "250/250 [==============================] - 33s 130ms/step - loss: 0.3989 - accuracy: 0.8167 - val_loss: 0.2839 - val_accuracy: 0.8792\n",
            "Epoch 13/25\n",
            "250/250 [==============================] - 32s 130ms/step - loss: 0.3817 - accuracy: 0.8266 - val_loss: 0.2988 - val_accuracy: 0.8792\n",
            "Epoch 14/25\n",
            "250/250 [==============================] - 33s 131ms/step - loss: 0.3743 - accuracy: 0.8325 - val_loss: 0.3104 - val_accuracy: 0.8638\n",
            "Epoch 15/25\n",
            "250/250 [==============================] - 36s 142ms/step - loss: 0.3555 - accuracy: 0.8411 - val_loss: 0.3456 - val_accuracy: 0.8525\n",
            "Epoch 16/25\n",
            "250/250 [==============================] - 33s 131ms/step - loss: 0.3543 - accuracy: 0.8389 - val_loss: 0.3322 - val_accuracy: 0.8497\n",
            "Epoch 17/25\n",
            "250/250 [==============================] - 33s 132ms/step - loss: 0.3430 - accuracy: 0.8493 - val_loss: 0.2353 - val_accuracy: 0.8919\n",
            "Epoch 18/25\n",
            "250/250 [==============================] - 33s 130ms/step - loss: 0.3345 - accuracy: 0.8525 - val_loss: 0.3490 - val_accuracy: 0.8399\n",
            "Epoch 19/25\n",
            "250/250 [==============================] - 33s 131ms/step - loss: 0.3044 - accuracy: 0.8679 - val_loss: 0.2329 - val_accuracy: 0.9059\n",
            "Epoch 20/25\n",
            "250/250 [==============================] - 33s 130ms/step - loss: 0.3127 - accuracy: 0.8605 - val_loss: 0.2511 - val_accuracy: 0.8975\n",
            "Epoch 21/25\n",
            "250/250 [==============================] - 35s 139ms/step - loss: 0.2921 - accuracy: 0.8696 - val_loss: 0.3327 - val_accuracy: 0.8638\n",
            "Epoch 22/25\n",
            "250/250 [==============================] - 33s 131ms/step - loss: 0.2774 - accuracy: 0.8764 - val_loss: 0.2709 - val_accuracy: 0.8975\n",
            "Epoch 23/25\n",
            "250/250 [==============================] - 33s 131ms/step - loss: 0.2779 - accuracy: 0.8802 - val_loss: 0.2266 - val_accuracy: 0.9129\n",
            "Epoch 24/25\n",
            "250/250 [==============================] - 33s 132ms/step - loss: 0.2585 - accuracy: 0.8874 - val_loss: 0.4487 - val_accuracy: 0.8399\n",
            "Epoch 25/25\n",
            "250/250 [==============================] - 35s 139ms/step - loss: 0.2526 - accuracy: 0.8945 - val_loss: 0.3609 - val_accuracy: 0.8567\n"
          ]
        },
        {
          "output_type": "execute_result",
          "data": {
            "text/plain": [
              "<keras.src.callbacks.History at 0x7be4b81473d0>"
            ]
          },
          "metadata": {},
          "execution_count": 16
        }
      ]
    },
    {
      "cell_type": "markdown",
      "source": [
        "####Langkah 5\n",
        "> Prediksi dengan 1 Citra"
      ],
      "metadata": {
        "id": "1M5BJvxsxJrD"
      }
    },
    {
      "cell_type": "code",
      "source": [
        "import numpy as np\n",
        "from keras.preprocessing import image\n",
        "test_image = image.load_img('/content/drive/MyDrive/Machine_Learning/dataset/single_prediction/cat_or_dog_1.jpg', target_size = (64, 64))\n",
        "test_image = image.img_to_array(test_image)\n",
        "test_image = np.expand_dims(test_image, axis = 0)\n",
        "result = cnn.predict(test_image)\n",
        "training_set.class_indices\n",
        "if result[0][0] == 1:\n",
        "  prediction = 'dog'\n",
        "else:\n",
        "  prediction = 'cat'"
      ],
      "metadata": {
        "colab": {
          "base_uri": "https://localhost:8080/"
        },
        "id": "Ifix82Ayy-DC",
        "outputId": "d42c7ad2-b06e-43d9-a875-ca4c5ffce5b2"
      },
      "execution_count": 17,
      "outputs": [
        {
          "output_type": "stream",
          "name": "stdout",
          "text": [
            "1/1 [==============================] - 0s 150ms/step\n"
          ]
        }
      ]
    },
    {
      "cell_type": "markdown",
      "source": [
        "###Praktikum 2\n",
        "> Klasifikasi Multi-label dengan Data CIFAR"
      ],
      "metadata": {
        "id": "YxWlBFGVxO61"
      }
    },
    {
      "cell_type": "markdown",
      "source": [
        "####Langkah 1\n",
        "> Load Library"
      ],
      "metadata": {
        "id": "FEIBiLQRxWqR"
      }
    },
    {
      "cell_type": "code",
      "source": [
        "import tensorflow as tf\n",
        "\n",
        "from tensorflow.keras import datasets, layers, models\n",
        "import matplotlib.pyplot as plt"
      ],
      "metadata": {
        "id": "x9p1HSFqzcdp"
      },
      "execution_count": 18,
      "outputs": []
    },
    {
      "cell_type": "markdown",
      "source": [
        "####Langkah 2\n",
        "> Unduh Dataset CIFAR"
      ],
      "metadata": {
        "id": "Zp3laYZmxeKc"
      }
    },
    {
      "cell_type": "code",
      "source": [
        "(train_images, train_labels), (test_images, test_labels) = datasets.cifar10.load_data()\n",
        "\n",
        "# Normalize pixel values to be between 0 and 1\n",
        "train_images, test_images = train_images / 255.0, test_images / 255.0"
      ],
      "metadata": {
        "colab": {
          "base_uri": "https://localhost:8080/"
        },
        "id": "hLUZ5y96zeTx",
        "outputId": "b111c00b-6324-4085-bac1-10ad4688b675"
      },
      "execution_count": 19,
      "outputs": [
        {
          "output_type": "stream",
          "name": "stdout",
          "text": [
            "Downloading data from https://www.cs.toronto.edu/~kriz/cifar-10-python.tar.gz\n",
            "170498071/170498071 [==============================] - 13s 0us/step\n"
          ]
        }
      ]
    },
    {
      "cell_type": "markdown",
      "source": [
        "####Langkah 3\n",
        "> Verifikasi Data"
      ],
      "metadata": {
        "id": "Nr8ffzQuxj6P"
      }
    },
    {
      "cell_type": "code",
      "source": [
        "class_names = ['airplane', 'automobile', 'bird', 'cat', 'deer',\n",
        "               'dog', 'frog', 'horse', 'ship', 'truck']\n",
        "\n",
        "plt.figure(figsize=(10,10))\n",
        "for i in range(25):\n",
        "    plt.subplot(5,5,i+1)\n",
        "    plt.xticks([])\n",
        "    plt.yticks([])\n",
        "    plt.grid(False)\n",
        "    plt.imshow(train_images[i])\n",
        "    # The CIFAR labels happen to be arrays,\n",
        "    # which is why you need the extra index\n",
        "    plt.xlabel(class_names[train_labels[i][0]])\n",
        "plt.show()"
      ],
      "metadata": {
        "colab": {
          "base_uri": "https://localhost:8080/",
          "height": 675
        },
        "id": "L99fw3_IzgW1",
        "outputId": "4a87714f-1820-4731-84d7-97bcfcd50a77"
      },
      "execution_count": 20,
      "outputs": [
        {
          "output_type": "display_data",
          "data": {
            "text/plain": [
              "<Figure size 1000x1000 with 25 Axes>"
            ],
            "image/png": "[encoded data removed]"
          },
          "metadata": {}
        }
      ]
    },
    {
      "cell_type": "markdown",
      "source": [
        "####Langkah 4\n",
        "> Buat Model CNN"
      ],
      "metadata": {
        "id": "CM7id-1JxoGI"
      }
    },
    {
      "cell_type": "markdown",
      "source": [
        "#####Langkah 4.1\n",
        "> Buat Layer Konvolusi"
      ],
      "metadata": {
        "id": "nm7pWxbbxrVI"
      }
    },
    {
      "cell_type": "code",
      "source": [
        "model = models.Sequential()\n",
        "model.add(layers.Conv2D(32, (3, 3), activation='relu', input_shape=(32, 32, 3)))\n",
        "model.add(layers.MaxPooling2D((2, 2)))\n",
        "model.add(layers.Conv2D(64, (3, 3), activation='relu'))\n",
        "model.add(layers.MaxPooling2D((2, 2)))\n",
        "model.add(layers.Conv2D(64, (3, 3), activation='relu'))"
      ],
      "metadata": {
        "id": "xUW8VOCaziva"
      },
      "execution_count": 21,
      "outputs": []
    },
    {
      "cell_type": "markdown",
      "source": [
        "#####Langkah 4.2\n",
        "> Cek Arsitektur Konvolusi"
      ],
      "metadata": {
        "id": "ydZJFmF0x4Bz"
      }
    },
    {
      "cell_type": "code",
      "source": [
        "model.summary()"
      ],
      "metadata": {
        "colab": {
          "base_uri": "https://localhost:8080/"
        },
        "id": "x5b1pK5KzkwQ",
        "outputId": "5f197fb1-70d8-4686-bec6-4924add0db1e"
      },
      "execution_count": 22,
      "outputs": [
        {
          "output_type": "stream",
          "name": "stdout",
          "text": [
            "Model: \"sequential_1\"\n",
            "_________________________________________________________________\n",
            " Layer (type)                Output Shape              Param #   \n",
            "=================================================================\n",
            " conv2d_2 (Conv2D)           (None, 30, 30, 32)        896       \n",
            "                                                                 \n",
            " max_pooling2d_2 (MaxPoolin  (None, 15, 15, 32)        0         \n",
            " g2D)                                                            \n",
            "                                                                 \n",
            " conv2d_3 (Conv2D)           (None, 13, 13, 64)        18496     \n",
            "                                                                 \n",
            " max_pooling2d_3 (MaxPoolin  (None, 6, 6, 64)          0         \n",
            " g2D)                                                            \n",
            "                                                                 \n",
            " conv2d_4 (Conv2D)           (None, 4, 4, 64)          36928     \n",
            "                                                                 \n",
            "=================================================================\n",
            "Total params: 56320 (220.00 KB)\n",
            "Trainable params: 56320 (220.00 KB)\n",
            "Non-trainable params: 0 (0.00 Byte)\n",
            "_________________________________________________________________\n"
          ]
        }
      ]
    },
    {
      "cell_type": "markdown",
      "source": [
        "#####Langkah 4.3\n",
        "> Tambahkan Layer Fully Connected"
      ],
      "metadata": {
        "id": "uP6ucdgsx9hW"
      }
    },
    {
      "cell_type": "code",
      "source": [
        "model.add(layers.Flatten())\n",
        "model.add(layers.Dense(64, activation='relu'))\n",
        "model.add(layers.Dense(10))"
      ],
      "metadata": {
        "id": "VhhpcvaQzl7_"
      },
      "execution_count": 23,
      "outputs": []
    },
    {
      "cell_type": "markdown",
      "source": [
        "#####Langkah 4.4\n",
        "> Cek Arsitektur Model CNN"
      ],
      "metadata": {
        "id": "6hMh6WzDyBdL"
      }
    },
    {
      "cell_type": "code",
      "source": [
        "model.summary()"
      ],
      "metadata": {
        "colab": {
          "base_uri": "https://localhost:8080/"
        },
        "id": "YCFWbLJ3zndg",
        "outputId": "23b5d2b5-e65b-413a-ac19-685da7a83607"
      },
      "execution_count": 24,
      "outputs": [
        {
          "output_type": "stream",
          "name": "stdout",
          "text": [
            "Model: \"sequential_1\"\n",
            "_________________________________________________________________\n",
            " Layer (type)                Output Shape              Param #   \n",
            "=================================================================\n",
            " conv2d_2 (Conv2D)           (None, 30, 30, 32)        896       \n",
            "                                                                 \n",
            " max_pooling2d_2 (MaxPoolin  (None, 15, 15, 32)        0         \n",
            " g2D)                                                            \n",
            "                                                                 \n",
            " conv2d_3 (Conv2D)           (None, 13, 13, 64)        18496     \n",
            "                                                                 \n",
            " max_pooling2d_3 (MaxPoolin  (None, 6, 6, 64)          0         \n",
            " g2D)                                                            \n",
            "                                                                 \n",
            " conv2d_4 (Conv2D)           (None, 4, 4, 64)          36928     \n",
            "                                                                 \n",
            " flatten_1 (Flatten)         (None, 1024)              0         \n",
            "                                                                 \n",
            " dense_2 (Dense)             (None, 64)                65600     \n",
            "                                                                 \n",
            " dense_3 (Dense)             (None, 10)                650       \n",
            "                                                                 \n",
            "=================================================================\n",
            "Total params: 122570 (478.79 KB)\n",
            "Trainable params: 122570 (478.79 KB)\n",
            "Non-trainable params: 0 (0.00 Byte)\n",
            "_________________________________________________________________\n"
          ]
        }
      ]
    },
    {
      "cell_type": "markdown",
      "source": [
        "#####Langkah 4.5\n",
        "> Compile Model CNN"
      ],
      "metadata": {
        "id": "8ini3mWXyHqv"
      }
    },
    {
      "cell_type": "code",
      "source": [
        "model.compile(optimizer='adam',\n",
        "              loss=tf.keras.losses.SparseCategoricalCrossentropy(from_logits=True),\n",
        "              metrics=['accuracy'])"
      ],
      "metadata": {
        "id": "XtbI9cjCzpmT"
      },
      "execution_count": 25,
      "outputs": []
    },
    {
      "cell_type": "markdown",
      "source": [
        "####Langkah 5\n",
        "> Fit Model"
      ],
      "metadata": {
        "id": "zVCTdenayLHq"
      }
    },
    {
      "cell_type": "code",
      "source": [
        "history = model.fit(train_images, train_labels, epochs=10,\n",
        "                    validation_data=(test_images, test_labels))"
      ],
      "metadata": {
        "colab": {
          "base_uri": "https://localhost:8080/"
        },
        "id": "d8l2Ygy9zq4_",
        "outputId": "2540a615-4b90-4fd0-cae6-afc1af6d0209"
      },
      "execution_count": 26,
      "outputs": [
        {
          "output_type": "stream",
          "name": "stdout",
          "text": [
            "Epoch 1/10\n",
            "1563/1563 [==============================] - 10s 5ms/step - loss: 1.5773 - accuracy: 0.4205 - val_loss: 1.2855 - val_accuracy: 0.5454\n",
            "Epoch 2/10\n",
            "1563/1563 [==============================] - 9s 5ms/step - loss: 1.1995 - accuracy: 0.5747 - val_loss: 1.1240 - val_accuracy: 0.6038\n",
            "Epoch 3/10\n",
            "1563/1563 [==============================] - 7s 4ms/step - loss: 1.0517 - accuracy: 0.6297 - val_loss: 1.0064 - val_accuracy: 0.6457\n",
            "Epoch 4/10\n",
            "1563/1563 [==============================] - 10s 7ms/step - loss: 0.9452 - accuracy: 0.6685 - val_loss: 0.9628 - val_accuracy: 0.6622\n",
            "Epoch 5/10\n",
            "1563/1563 [==============================] - 8s 5ms/step - loss: 0.8821 - accuracy: 0.6918 - val_loss: 0.9108 - val_accuracy: 0.6831\n",
            "Epoch 6/10\n",
            "1563/1563 [==============================] - 9s 6ms/step - loss: 0.8208 - accuracy: 0.7116 - val_loss: 0.8741 - val_accuracy: 0.6912\n",
            "Epoch 7/10\n",
            "1563/1563 [==============================] - 8s 5ms/step - loss: 0.7783 - accuracy: 0.7271 - val_loss: 0.8614 - val_accuracy: 0.7001\n",
            "Epoch 8/10\n",
            "1563/1563 [==============================] - 8s 5ms/step - loss: 0.7333 - accuracy: 0.7424 - val_loss: 0.9143 - val_accuracy: 0.6807\n",
            "Epoch 9/10\n",
            "1563/1563 [==============================] - 8s 5ms/step - loss: 0.6962 - accuracy: 0.7545 - val_loss: 0.9184 - val_accuracy: 0.6876\n",
            "Epoch 10/10\n",
            "1563/1563 [==============================] - 8s 5ms/step - loss: 0.6646 - accuracy: 0.7660 - val_loss: 0.9061 - val_accuracy: 0.6959\n"
          ]
        }
      ]
    },
    {
      "cell_type": "markdown",
      "source": [
        "####Langkah 6\n",
        "> Evaluasi Model"
      ],
      "metadata": {
        "id": "umVBNTPpyQCL"
      }
    },
    {
      "cell_type": "code",
      "source": [
        "plt.plot(history.history['accuracy'], label='accuracy')\n",
        "plt.plot(history.history['val_accuracy'], label = 'val_accuracy')\n",
        "plt.xlabel('Epoch')\n",
        "plt.ylabel('Accuracy')\n",
        "plt.ylim([0.5, 1])\n",
        "plt.legend(loc='lower right')\n",
        "\n",
        "test_loss, test_acc = model.evaluate(test_images,  test_labels, verbose=2)"
      ],
      "metadata": {
        "colab": {
          "base_uri": "https://localhost:8080/",
          "height": 472
        },
        "id": "pBKfsj4wzscN",
        "outputId": "312d9e97-3206-43d8-dc5c-8978c8a00ff4"
      },
      "execution_count": 27,
      "outputs": [
        {
          "output_type": "stream",
          "name": "stdout",
          "text": [
            "313/313 - 1s - loss: 0.9061 - accuracy: 0.6959 - 852ms/epoch - 3ms/step\n"
          ]
        },
        {
          "output_type": "display_data",
          "data": {
            "text/plain": [
              "<Figure size 640x480 with 1 Axes>"
            ],
            "image/png": "[encoded data removed]"
          },
          "metadata": {}
        }
      ]
    },
    {
      "cell_type": "markdown",
      "source": [
        "####Langkah 7\n",
        "> Cetak Hasil Akurasi"
      ],
      "metadata": {
        "id": "EJuikq6lyTlU"
      }
    },
    {
      "cell_type": "code",
      "source": [
        "print(test_acc)"
      ],
      "metadata": {
        "colab": {
          "base_uri": "https://localhost:8080/"
        },
        "id": "gFsdGcTBzuQk",
        "outputId": "8d1f77ac-7f0b-41e2-8604-94538dd01968"
      },
      "execution_count": 28,
      "outputs": [
        {
          "output_type": "stream",
          "name": "stdout",
          "text": [
            "0.695900022983551\n"
          ]
        }
      ]
    },
    {
      "cell_type": "markdown",
      "source": [
        "###Tugas Praktikum"
      ],
      "metadata": {
        "id": "3-Cwui4pyZUS"
      }
    },
    {
      "cell_type": "markdown",
      "source": [
        "\n",
        "\n",
        "*   Modifikasi model CNN pada praktikum 2 sehingga didapatkan akurasi testing lebih dari 80%.\n",
        "*   Buatlah model CNN untuk klasifikasi dataset MNIST.\n",
        "\n"
      ],
      "metadata": {
        "id": "0zIGcNOVyctb"
      }
    },
    {
      "cell_type": "markdown",
      "source": [
        "####Modifikasi model CNN pada praktikum 2 sehingga didapatkan akurasi testing lebih dari 80%."
      ],
      "metadata": {
        "id": "vW97O8syJIUU"
      }
    },
    {
      "cell_type": "markdown",
      "source": [
        "#####Import Library"
      ],
      "metadata": {
        "id": "G3soDOP8JQ3q"
      }
    },
    {
      "cell_type": "code",
      "source": [
        "import tensorflow as tf\n",
        "from tensorflow.keras import datasets, layers, models\n",
        "import matplotlib.pyplot as plt"
      ],
      "metadata": {
        "id": "Oex6W7X3LP9n"
      },
      "execution_count": 29,
      "outputs": []
    },
    {
      "cell_type": "markdown",
      "source": [
        "#####Load Dataset CIFAR"
      ],
      "metadata": {
        "id": "1UYOv0-BJWla"
      }
    },
    {
      "cell_type": "code",
      "source": [
        "(train_images, train_labels), (test_images, test_labels) = datasets.cifar10.load_data()"
      ],
      "metadata": {
        "id": "7BJWlkmeLOlz"
      },
      "execution_count": 30,
      "outputs": []
    },
    {
      "cell_type": "markdown",
      "source": [
        "#####Normalisasi nilai piksel menjadi antara 0 dan 1"
      ],
      "metadata": {
        "id": "UN8VwM1jJbcO"
      }
    },
    {
      "cell_type": "code",
      "source": [
        "train_images, test_images = train_images / 255.0, test_images / 255.0"
      ],
      "metadata": {
        "id": "gtyBNJ0gLNRs"
      },
      "execution_count": 31,
      "outputs": []
    },
    {
      "cell_type": "markdown",
      "source": [
        "#####Buat Model CNN"
      ],
      "metadata": {
        "id": "R42wvXURJgaQ"
      }
    },
    {
      "cell_type": "code",
      "source": [
        "model = models.Sequential()"
      ],
      "metadata": {
        "id": "-sWjRKeKLLos"
      },
      "execution_count": 32,
      "outputs": []
    },
    {
      "cell_type": "markdown",
      "source": [
        "#####Tambahkan Konvolutional Layer"
      ],
      "metadata": {
        "id": "bRxxOXucJjCT"
      }
    },
    {
      "cell_type": "code",
      "source": [
        "model.add(layers.Conv2D(32, (3, 3), activation='relu', input_shape=(32, 32, 3)))\n",
        "model.add(layers.MaxPooling2D((2, 2)))\n",
        "model.add(layers.Conv2D(64, (3, 3), activation='relu'))\n",
        "model.add(layers.MaxPooling2D((2, 2)))\n",
        "model.add(layers.Conv2D(128, (3, 3), activation='relu'))\n",
        "model.add(layers.MaxPooling2D((2, 2)))"
      ],
      "metadata": {
        "id": "ASWBiTxoLKH1"
      },
      "execution_count": 33,
      "outputs": []
    },
    {
      "cell_type": "markdown",
      "source": [
        "#####Ratakan dan tambahkan Fully Connected Layer"
      ],
      "metadata": {
        "id": "_1p5_aqBJ0DE"
      }
    },
    {
      "cell_type": "code",
      "source": [
        "model.add(layers.Flatten())\n",
        "model.add(layers.Dense(128, activation='relu'))\n",
        "model.add(layers.Dropout(0.5))  # Dropout layer to reduce overfitting\n",
        "model.add(layers.Dense(10, activation='softmax'))"
      ],
      "metadata": {
        "id": "AvOivFOWLI0f"
      },
      "execution_count": 34,
      "outputs": []
    },
    {
      "cell_type": "markdown",
      "source": [
        "#####Compile modelnya"
      ],
      "metadata": {
        "id": "kqS4wMC3J-vt"
      }
    },
    {
      "cell_type": "code",
      "source": [
        "model.compile(optimizer='adam',\n",
        "              loss='sparse_categorical_crossentropy',\n",
        "              metrics=['accuracy'])"
      ],
      "metadata": {
        "id": "ICN2K_ljLHfH"
      },
      "execution_count": 35,
      "outputs": []
    },
    {
      "cell_type": "markdown",
      "source": [
        "#####Train model dengan lebih banyak epoch"
      ],
      "metadata": {
        "id": "QsqO1pKoKAoH"
      }
    },
    {
      "cell_type": "code",
      "source": [
        "history = model.fit(train_images, train_labels, epochs=20, validation_data=(test_images, test_labels))"
      ],
      "metadata": {
        "colab": {
          "base_uri": "https://localhost:8080/"
        },
        "id": "NxukXkHDLEw1",
        "outputId": "156b7075-9dbe-4ac1-8726-8ee194852814"
      },
      "execution_count": 36,
      "outputs": [
        {
          "output_type": "stream",
          "name": "stdout",
          "text": [
            "Epoch 1/20\n",
            "1563/1563 [==============================] - 12s 6ms/step - loss: 1.6087 - accuracy: 0.4073 - val_loss: 1.3900 - val_accuracy: 0.5045\n",
            "Epoch 2/20\n",
            "1563/1563 [==============================] - 9s 5ms/step - loss: 1.2454 - accuracy: 0.5574 - val_loss: 1.0880 - val_accuracy: 0.6168\n",
            "Epoch 3/20\n",
            "1563/1563 [==============================] - 9s 6ms/step - loss: 1.0853 - accuracy: 0.6183 - val_loss: 0.9847 - val_accuracy: 0.6577\n",
            "Epoch 4/20\n",
            "1563/1563 [==============================] - 9s 6ms/step - loss: 0.9843 - accuracy: 0.6577 - val_loss: 0.9202 - val_accuracy: 0.6785\n",
            "Epoch 5/20\n",
            "1563/1563 [==============================] - 7s 5ms/step - loss: 0.9058 - accuracy: 0.6855 - val_loss: 0.9690 - val_accuracy: 0.6632\n",
            "Epoch 6/20\n",
            "1563/1563 [==============================] - 9s 6ms/step - loss: 0.8454 - accuracy: 0.7058 - val_loss: 0.8940 - val_accuracy: 0.6965\n",
            "Epoch 7/20\n",
            "1563/1563 [==============================] - 8s 5ms/step - loss: 0.7925 - accuracy: 0.7256 - val_loss: 0.9041 - val_accuracy: 0.6910\n",
            "Epoch 8/20\n",
            "1563/1563 [==============================] - 10s 6ms/step - loss: 0.7438 - accuracy: 0.7415 - val_loss: 0.8451 - val_accuracy: 0.7166\n",
            "Epoch 9/20\n",
            "1563/1563 [==============================] - 7s 5ms/step - loss: 0.6977 - accuracy: 0.7574 - val_loss: 0.8314 - val_accuracy: 0.7196\n",
            "Epoch 10/20\n",
            "1563/1563 [==============================] - 9s 6ms/step - loss: 0.6684 - accuracy: 0.7669 - val_loss: 0.8699 - val_accuracy: 0.7056\n",
            "Epoch 11/20\n",
            "1563/1563 [==============================] - 7s 5ms/step - loss: 0.6396 - accuracy: 0.7764 - val_loss: 0.8203 - val_accuracy: 0.7262\n",
            "Epoch 12/20\n",
            "1563/1563 [==============================] - 10s 6ms/step - loss: 0.6054 - accuracy: 0.7864 - val_loss: 0.8365 - val_accuracy: 0.7258\n",
            "Epoch 13/20\n",
            "1563/1563 [==============================] - 8s 5ms/step - loss: 0.5788 - accuracy: 0.7976 - val_loss: 0.8403 - val_accuracy: 0.7274\n",
            "Epoch 14/20\n",
            "1563/1563 [==============================] - 11s 7ms/step - loss: 0.5547 - accuracy: 0.8047 - val_loss: 0.8746 - val_accuracy: 0.7242\n",
            "Epoch 15/20\n",
            "1563/1563 [==============================] - 8s 5ms/step - loss: 0.5329 - accuracy: 0.8140 - val_loss: 0.8656 - val_accuracy: 0.7333\n",
            "Epoch 16/20\n",
            "1563/1563 [==============================] - 9s 6ms/step - loss: 0.5173 - accuracy: 0.8177 - val_loss: 0.9273 - val_accuracy: 0.7205\n",
            "Epoch 17/20\n",
            "1563/1563 [==============================] - 8s 5ms/step - loss: 0.4988 - accuracy: 0.8236 - val_loss: 0.8824 - val_accuracy: 0.7332\n",
            "Epoch 18/20\n",
            "1563/1563 [==============================] - 9s 6ms/step - loss: 0.4816 - accuracy: 0.8301 - val_loss: 0.9691 - val_accuracy: 0.7171\n",
            "Epoch 19/20\n",
            "1563/1563 [==============================] - 9s 5ms/step - loss: 0.4648 - accuracy: 0.8369 - val_loss: 0.9822 - val_accuracy: 0.7176\n",
            "Epoch 20/20\n",
            "1563/1563 [==============================] - 8s 5ms/step - loss: 0.4449 - accuracy: 0.8429 - val_loss: 0.9373 - val_accuracy: 0.7314\n"
          ]
        }
      ]
    },
    {
      "cell_type": "markdown",
      "source": [
        "#####Evaluasi hasil model"
      ],
      "metadata": {
        "id": "GaE25cbjKEno"
      }
    },
    {
      "cell_type": "code",
      "source": [
        "test_loss, test_acc = model.evaluate(test_images, test_labels, verbose=2)\n",
        "print(f\"Test accuracy: {test_acc}\")"
      ],
      "metadata": {
        "colab": {
          "base_uri": "https://localhost:8080/"
        },
        "id": "cjf9ioArLDAs",
        "outputId": "747deb9f-5df2-47b4-bc0c-fef3e0c05541"
      },
      "execution_count": 37,
      "outputs": [
        {
          "output_type": "stream",
          "name": "stdout",
          "text": [
            "313/313 - 1s - loss: 0.9373 - accuracy: 0.7314 - 720ms/epoch - 2ms/step\n",
            "Test accuracy: 0.7314000129699707\n"
          ]
        }
      ]
    },
    {
      "cell_type": "markdown",
      "source": [
        "#####Plot Training History"
      ],
      "metadata": {
        "id": "08U0b0UAKH5M"
      }
    },
    {
      "cell_type": "code",
      "source": [
        "plt.plot(history.history['accuracy'], label='accuracy')\n",
        "plt.plot(history.history['val_accuracy'], label='val_accuracy')\n",
        "plt.xlabel('Epoch')\n",
        "plt.ylabel('Accuracy')\n",
        "plt.ylim([0, 1])\n",
        "plt.legend(loc='lower right')\n",
        "plt.show()\n"
      ],
      "metadata": {
        "colab": {
          "base_uri": "https://localhost:8080/",
          "height": 455
        },
        "id": "U1SSqiHhLBFO",
        "outputId": "7290d5af-9ecf-42f0-c1ea-f23799f7d6b4"
      },
      "execution_count": 38,
      "outputs": [
        {
          "output_type": "display_data",
          "data": {
            "text/plain": [
              "<Figure size 640x480 with 1 Axes>"
            ],
            "image/png": "[encoded data removed]"
          },
          "metadata": {}
        }
      ]
    },
    {
      "cell_type": "markdown",
      "source": [
        "####Buatlah model CNN untuk klasifikasi dataset MNIST."
      ],
      "metadata": {
        "id": "DkqYu6SYJOsO"
      }
    },
    {
      "cell_type": "markdown",
      "source": [
        "#####Import Library"
      ],
      "metadata": {
        "id": "ZChhrH9RKOCp"
      }
    },
    {
      "cell_type": "code",
      "source": [
        "import tensorflow as tf\n",
        "from tensorflow.keras import datasets, layers, models\n",
        "import matplotlib.pyplot as plt"
      ],
      "metadata": {
        "id": "vvWhX1QpK79_"
      },
      "execution_count": 39,
      "outputs": []
    },
    {
      "cell_type": "markdown",
      "source": [
        "#####Load Dataset MNIST"
      ],
      "metadata": {
        "id": "lHdk4Y-wKRDN"
      }
    },
    {
      "cell_type": "code",
      "source": [
        "(train_images, train_labels), (test_images, test_labels) = datasets.mnist.load_data()"
      ],
      "metadata": {
        "colab": {
          "base_uri": "https://localhost:8080/"
        },
        "id": "HvO55nTlK6C0",
        "outputId": "00b941c9-c521-4cf0-f995-0baef97de1bf"
      },
      "execution_count": 40,
      "outputs": [
        {
          "output_type": "stream",
          "name": "stdout",
          "text": [
            "Downloading data from https://storage.googleapis.com/tensorflow/tf-keras-datasets/mnist.npz\n",
            "11490434/11490434 [==============================] - 2s 0us/step\n"
          ]
        }
      ]
    },
    {
      "cell_type": "markdown",
      "source": [
        "#####Normalisasi nilai piksel menjadi antara 0 dan 1"
      ],
      "metadata": {
        "id": "-2UgRODZKTEz"
      }
    },
    {
      "cell_type": "code",
      "source": [
        "train_images, test_images = train_images / 255.0, test_images / 255.0"
      ],
      "metadata": {
        "id": "WYRkeFX6K4iZ"
      },
      "execution_count": 41,
      "outputs": []
    },
    {
      "cell_type": "markdown",
      "source": [
        "#####Buat Model CNN"
      ],
      "metadata": {
        "id": "mQqND6cDKbZx"
      }
    },
    {
      "cell_type": "code",
      "source": [
        "model = models.Sequential()\n",
        "model.add(layers.Conv2D(32, (3, 3), activation='relu', input_shape=(28, 28, 1)))\n",
        "model.add(layers.MaxPooling2D((2, 2)))\n",
        "model.add(layers.Conv2D(64, (3, 3), activation='relu'))\n",
        "model.add(layers.MaxPooling2D((2, 2)))\n",
        "model.add(layers.Conv2D(64, (3, 3), activation='relu'))\n",
        "model.add(layers.Flatten())\n",
        "model.add(layers.Dense(64, activation='relu'))\n",
        "model.add(layers.Dense(10, activation='softmax'))"
      ],
      "metadata": {
        "id": "HeDntFYUK27F"
      },
      "execution_count": 42,
      "outputs": []
    },
    {
      "cell_type": "markdown",
      "source": [
        "#####Compile modelnya"
      ],
      "metadata": {
        "id": "jSb1N0HUKeT0"
      }
    },
    {
      "cell_type": "code",
      "source": [
        "model.compile(optimizer='adam',\n",
        "              loss='sparse_categorical_crossentropy',\n",
        "              metrics=['accuracy'])"
      ],
      "metadata": {
        "id": "PMCuERLLK10J"
      },
      "execution_count": 43,
      "outputs": []
    },
    {
      "cell_type": "markdown",
      "source": [
        "#####Latih model dengan lebih banyak epoch"
      ],
      "metadata": {
        "id": "_GHbGN4AKf-f"
      }
    },
    {
      "cell_type": "code",
      "source": [
        "history = model.fit(train_images, train_labels, epochs=10, validation_data=(test_images, test_labels))"
      ],
      "metadata": {
        "colab": {
          "base_uri": "https://localhost:8080/"
        },
        "id": "d6hHG_wGKyMo",
        "outputId": "12eb2c67-8e56-48ac-fd2c-0dbb6e63a201"
      },
      "execution_count": 44,
      "outputs": [
        {
          "output_type": "stream",
          "name": "stdout",
          "text": [
            "Epoch 1/10\n",
            "1875/1875 [==============================] - 12s 5ms/step - loss: 0.1488 - accuracy: 0.9530 - val_loss: 0.0476 - val_accuracy: 0.9863\n",
            "Epoch 2/10\n",
            "1875/1875 [==============================] - 10s 5ms/step - loss: 0.0465 - accuracy: 0.9858 - val_loss: 0.0404 - val_accuracy: 0.9871\n",
            "Epoch 3/10\n",
            "1875/1875 [==============================] - 8s 4ms/step - loss: 0.0335 - accuracy: 0.9900 - val_loss: 0.0294 - val_accuracy: 0.9901\n",
            "Epoch 4/10\n",
            "1875/1875 [==============================] - 10s 5ms/step - loss: 0.0252 - accuracy: 0.9919 - val_loss: 0.0266 - val_accuracy: 0.9914\n",
            "Epoch 5/10\n",
            "1875/1875 [==============================] - 7s 4ms/step - loss: 0.0196 - accuracy: 0.9937 - val_loss: 0.0327 - val_accuracy: 0.9893\n",
            "Epoch 6/10\n",
            "1875/1875 [==============================] - 9s 5ms/step - loss: 0.0169 - accuracy: 0.9944 - val_loss: 0.0346 - val_accuracy: 0.9900\n",
            "Epoch 7/10\n",
            "1875/1875 [==============================] - 8s 4ms/step - loss: 0.0136 - accuracy: 0.9958 - val_loss: 0.0324 - val_accuracy: 0.9914\n",
            "Epoch 8/10\n",
            "1875/1875 [==============================] - 10s 5ms/step - loss: 0.0115 - accuracy: 0.9963 - val_loss: 0.0422 - val_accuracy: 0.9894\n",
            "Epoch 9/10\n",
            "1875/1875 [==============================] - 8s 4ms/step - loss: 0.0106 - accuracy: 0.9965 - val_loss: 0.0309 - val_accuracy: 0.9927\n",
            "Epoch 10/10\n",
            "1875/1875 [==============================] - 9s 5ms/step - loss: 0.0091 - accuracy: 0.9970 - val_loss: 0.0339 - val_accuracy: 0.9908\n"
          ]
        }
      ]
    },
    {
      "cell_type": "markdown",
      "source": [
        "#####Evaluasi hasil model"
      ],
      "metadata": {
        "id": "1fPwo4DOKk2i"
      }
    },
    {
      "cell_type": "code",
      "source": [
        "test_loss, test_acc = model.evaluate(test_images,  test_labels, verbose=2)\n",
        "print(f\"Test accuracy: {test_acc}\")"
      ],
      "metadata": {
        "colab": {
          "base_uri": "https://localhost:8080/"
        },
        "id": "Vm49AeGdKwfW",
        "outputId": "fd20efe4-823a-4397-c820-636bdcb66622"
      },
      "execution_count": 45,
      "outputs": [
        {
          "output_type": "stream",
          "name": "stdout",
          "text": [
            "313/313 - 1s - loss: 0.0339 - accuracy: 0.9908 - 672ms/epoch - 2ms/step\n",
            "Test accuracy: 0.9908000230789185\n"
          ]
        }
      ]
    },
    {
      "cell_type": "markdown",
      "source": [
        "#####Plot training history"
      ],
      "metadata": {
        "id": "8o1au3hrKnF9"
      }
    },
    {
      "cell_type": "code",
      "source": [
        "plt.plot(history.history['accuracy'], label='accuracy')\n",
        "plt.plot(history.history['val_accuracy'], label='val_accuracy')\n",
        "plt.xlabel('Epoch')\n",
        "plt.ylabel('Accuracy')\n",
        "plt.ylim([0, 1])\n",
        "plt.legend(loc='lower right')\n",
        "plt.show()\n"
      ],
      "metadata": {
        "colab": {
          "base_uri": "https://localhost:8080/",
          "height": 455
        },
        "id": "NrJtT49NKsTi",
        "outputId": "13ad6c93-1366-4a85-8fd9-0878f48bc415"
      },
      "execution_count": 46,
      "outputs": [
        {
          "output_type": "display_data",
          "data": {
            "text/plain": [
              "<Figure size 640x480 with 1 Axes>"
            ],
            "image/png": "[encoded data removed]"
          },
          "metadata": {}
        }
      ]
    }
  ]
}