{
  "cells": [
    {
      "cell_type": "markdown",
      "metadata": {
        "id": "view-in-github",
        "colab_type": "text"
      },
      "source": [
        "<a href=\"https://colab.research.google.com/github/MaulanaJauhar/MachineLearning/blob/main/Week10/Meet10.ipynb\" target=\"_parent\"><img src=\"https://colab.research.google.com/assets/colab-badge.svg\" alt=\"Open In Colab\"/></a>"
      ]
    },
    {
      "cell_type": "markdown",
      "metadata": {
        "id": "CR7aBSmIRdlK"
      },
      "source": [
        "#Modul 10 - Recurrent Neural Network (RNN)\n",
        "> Machine Learning - Recurrent Neural Network (RNN)"
      ]
    },
    {
      "cell_type": "markdown",
      "metadata": {
        "id": "W8JaUE8iRhhB"
      },
      "source": [
        "##Nama : Jauhar Maulana A'la\n",
        "##NIM : 2141720186\n",
        "##Kelas : TI - 3A"
      ]
    },
    {
      "cell_type": "markdown",
      "metadata": {
        "id": "6tXjBjEM3i1w"
      },
      "source": [
        "###Praktikum 1\n",
        "> RNN untuk Analisis Sentimen"
      ]
    },
    {
      "cell_type": "markdown",
      "metadata": {
        "id": "94F8anH_3i1x"
      },
      "source": [
        "####Setup\n",
        "> Import Library Matplotlib, lalu membuat fungsi untuk memplot grafik"
      ]
    },
    {
      "cell_type": "code",
      "execution_count": null,
      "metadata": {
        "id": "vbBZ83Pp3i10"
      },
      "outputs": [],
      "source": [
        "import numpy as np\n",
        "import tensorflow_datasets as tfds\n",
        "import tensorflow as tf\n",
        "\n",
        "tfds.disable_progress_bar()"
      ]
    },
    {
      "cell_type": "code",
      "source": [
        "# Construct a tf.data.Dataset\n",
        "ds = tfds.load('imdb_reviews', split='train', shuffle_files=True)"
      ],
      "metadata": {
        "id": "u3twFmjN4huZ"
      },
      "execution_count": null,
      "outputs": []
    },
    {
      "cell_type": "code",
      "source": [
        "import matplotlib.pyplot as plt\n",
        "\n",
        "def plot_graphs(history, metric):\n",
        " plt.plot(history.history[metric])\n",
        " plt.plot(history.history['val_'+metric], '')\n",
        " plt.xlabel(\"Epochs\")\n",
        " plt.ylabel(metric)\n",
        " plt.legend([metric, 'val_'+metric])"
      ],
      "metadata": {
        "id": "XdRwC5nr4RXt"
      },
      "execution_count": null,
      "outputs": []
    },
    {
      "cell_type": "markdown",
      "metadata": {
        "id": "d6sFQJoB3i11"
      },
      "source": [
        "####Setup Input Pipeline\n",
        "> Download dataset ulasan film IMDB menggunakan TFDS"
      ]
    },
    {
      "cell_type": "code",
      "execution_count": null,
      "metadata": {
        "colab": {
          "base_uri": "https://localhost:8080/"
        },
        "id": "z4lwnN663i12",
        "outputId": "2f42fb3a-7ebd-44c5-8a39-e406ac9f3020"
      },
      "outputs": [
        {
          "output_type": "execute_result",
          "data": {
            "text/plain": [
              "(TensorSpec(shape=(), dtype=tf.string, name=None),\n",
              " TensorSpec(shape=(), dtype=tf.int64, name=None))"
            ]
          },
          "metadata": {},
          "execution_count": 12
        }
      ],
      "source": [
        "dataset, info = tfds.load('imdb_reviews', with_info=True,\n",
        "                          as_supervised=True)\n",
        "train_dataset, test_dataset = dataset['train'], dataset['test']\n",
        "\n",
        "train_dataset.element_spec"
      ]
    },
    {
      "cell_type": "markdown",
      "metadata": {
        "id": "zrsggpu53i12"
      },
      "source": [
        "> Mengembalikan dataset (teks, pasangan label)"
      ]
    },
    {
      "cell_type": "code",
      "execution_count": null,
      "metadata": {
        "colab": {
          "base_uri": "https://localhost:8080/"
        },
        "id": "IC40kIM03i13",
        "outputId": "cb5d6da7-021f-4c2a-8d42-419442841dfd"
      },
      "outputs": [
        {
          "output_type": "stream",
          "name": "stdout",
          "text": [
            "text:  b\"This was an absolutely terrible movie. Don't be lured in by Christopher Walken or Michael Ironside. Both are great actors, but this must simply be their worst role in history. Even their great acting could not redeem this movie's ridiculous storyline. This movie is an early nineties US propaganda piece. The most pathetic scenes were those when the Columbian rebels were making their cases for revolutions. Maria Conchita Alonso appeared phony, and her pseudo-love affair with Walken was nothing but a pathetic emotional plug in a movie that was devoid of any real meaning. I am disappointed that there are movies like this, ruining actor's like Christopher Walken's good name. I could barely sit through it.\"\n",
            "label:  0\n"
          ]
        }
      ],
      "source": [
        "for example, label in train_dataset.take(1):\n",
        "  print('text: ', example.numpy())\n",
        "  print('label: ', label.numpy())"
      ]
    },
    {
      "cell_type": "markdown",
      "metadata": {
        "id": "6xpx2LT_3i14"
      },
      "source": [
        "> Berikutnya acak data untuk pelatihan dan membuat kumpulan pasangan (teks, label)"
      ]
    },
    {
      "cell_type": "code",
      "execution_count": null,
      "metadata": {
        "colab": {
          "base_uri": "https://localhost:8080/"
        },
        "id": "uPL2nzzr3i14",
        "outputId": "521d731a-07cd-4585-eac8-fb5ed318d7c3"
      },
      "outputs": [
        {
          "output_type": "stream",
          "name": "stdout",
          "text": [
            "texts:  [b'I\\'m sorry but this is just awful. I have told people about this film and some of the bad acting that is in it and they almost don\\'t believe me. There is nothing wrong with the idea, modern day Japanese troops get pulled back in time to the days of Busido warriors and with their modern weapons are a match for almost everything. When the troops first realise something strange is happening does every single person in the back of the transport need to say \"Hey my watch has stopped\"? Imagine lines like that being repeated 15+ times before they say anything else and you have the movie\\'s lack of greatness in a nutshell.'\n",
            " b\"SPOILER ALERT ! ! ! Personally I don't understand why Pete did not help to save Williams life,I mean that would be great to know why William was motivated,or forced.I think Secret Service members are every day people,and there is a rumor the writer was a member of the Secret Service,now he's motivations are clear,well known.But as a rental this film will not satisfy you,cause the old but used twists,the average acting -these are just things in this film,only for keep you wait the end.Clark Johnson as the director of S.W.A.T. did a far better work like this time,and I still wondering how the producers (for example Michael Douglas)left this film to theaters.\"\n",
            " b\"I watched Cabin by the Lake this afternoon on USA. Considering this movie was made for TV is was interesting enough to watch the sequel. So, I tune in for the airing this evening and was extremely disappointed. I knew I wouldn't like the movie, but I was not expecting to be perplexed by the use of DV (digital video). The movie would have been tolerable if it wasn't for these juxtaposed digital shots that seemed to come from nowhere. I expected the plot line to be tied in with these shots, but there seemed to be no logical explanation. (WARNING: THE FOLLOWING MAYBE A SPOILER!!!!) The open ending in Cabin by the Lake was acceptable, but the open ending on the sequel is ridiculous. I can only foresee Return of Return to The Cabin by the Lake being watch able is if the movie was shown up against nothing, but infomercials at 4 o'clock in the morning.\"]\n",
            "\n",
            "labels:  [0 0 0]\n"
          ]
        }
      ],
      "source": [
        "BUFFER_SIZE = 10000\n",
        "BATCH_SIZE = 64\n",
        "\n",
        "train_dataset = train_dataset.shuffle(BUFFER_SIZE).batch(BATCH_SIZE).prefetch(tf.data.AUTOTUNE)\n",
        "test_dataset = test_dataset.batch(BATCH_SIZE).prefetch(tf.data.AUTOTUNE)\n",
        "\n",
        "for example, label in train_dataset.take(1):\n",
        "  print('texts: ', example.numpy()[:3])\n",
        "  print()\n",
        "  print('labels: ', label.numpy()[:3])\n"
      ]
    },
    {
      "cell_type": "markdown",
      "metadata": {
        "id": "vtWM7PEz3i14"
      },
      "source": [
        "####Buat Teks Encoder\n",
        "> Teks mentah yang dimuat oleh tfds perlu diproses sebelum dapat digunakan dalam model. Cara termudah memproses teks untuk pelatihan adalah menggunakan lapisan TextVectorization. Lapisan ini memiliki banyak kemampuan, namun pada tutorial ini menggunakan perilaku default. Buat lapisan tersebut, dan teruskan teks kumpulan data ke metode .adapt lapisan:"
      ]
    },
    {
      "cell_type": "code",
      "execution_count": null,
      "metadata": {
        "id": "PAX9i3RG3i15"
      },
      "outputs": [],
      "source": [
        "VOCAB_SIZE = 1000\n",
        "encoder = tf.keras.layers.TextVectorization(\n",
        "    max_tokens=VOCAB_SIZE)\n",
        "encoder.adapt(train_dataset.map(lambda text, label: text))"
      ]
    },
    {
      "cell_type": "markdown",
      "metadata": {
        "id": "gny7iROq3i15"
      },
      "source": [
        "> Metode .adapt mengatur kosakata lapisan. 20 token pertama dapat dilihat dengan kode berikut. Setelah padding dan token yang tidak diketahui, mereka diurutkan berdasarkan frekuensi:"
      ]
    },
    {
      "cell_type": "code",
      "execution_count": null,
      "metadata": {
        "colab": {
          "base_uri": "https://localhost:8080/"
        },
        "id": "8m8jIizk3i15",
        "outputId": "fc6ab1fa-34b7-446c-f316-e6d03253a8b5"
      },
      "outputs": [
        {
          "output_type": "execute_result",
          "data": {
            "text/plain": [
              "array(['', '[UNK]', 'the', 'and', 'a', 'of', 'to', 'is', 'in', 'it', 'i',\n",
              "       'this', 'that', 'br', 'was', 'as', 'for', 'with', 'movie', 'but'],\n",
              "      dtype='<U14')"
            ]
          },
          "metadata": {},
          "execution_count": 17
        }
      ],
      "source": [
        "vocab=np.array(encoder.get_vocabulary())\n",
        "vocab[:20]"
      ]
    },
    {
      "cell_type": "markdown",
      "metadata": {
        "id": "qHY8IYri3i16"
      },
      "source": [
        "> Setelah kosakata diatur, lapisan dapat mengkodekan teks ke dalam indeks. Tensor indeks diberi bantalan 0 ke urutan terpanjang dalam batch (kecuali jika Anda menetapkan output_sequence_length tetap):"
      ]
    },
    {
      "cell_type": "code",
      "execution_count": null,
      "metadata": {
        "colab": {
          "base_uri": "https://localhost:8080/"
        },
        "id": "AWdzCEOR3i16",
        "outputId": "823c1bcd-4f7b-4e57-af06-eba4476094e5"
      },
      "outputs": [
        {
          "output_type": "execute_result",
          "data": {
            "text/plain": [
              "array([[142, 786,  19, ...,   0,   0,   0],\n",
              "       [  1,   1,   1, ...,   0,   0,   0],\n",
              "       [ 10, 284,   1, ...,   0,   0,   0]])"
            ]
          },
          "metadata": {},
          "execution_count": 18
        }
      ],
      "source": [
        "encoded_example=encoder(example)[:3].numpy()\n",
        "encoded_example"
      ]
    },
    {
      "cell_type": "markdown",
      "metadata": {
        "id": "24MJKX2P3i16"
      },
      "source": [
        "> Dengan pengaturan default, prosesnya tidak dapat dibalik sepenuhnya. Ada dua alasan utama untuk itu: Nilai default untuk argumen standarisasi preprocessing.TextVectorization adalah \"lower_and_strip_punctuation\" dan ukuran kosa kata yang terbatas dan kurangnya fallback berbasis karakter menghasilkan beberapa token yang tidak diketahui."
      ]
    },
    {
      "cell_type": "code",
      "execution_count": null,
      "metadata": {
        "colab": {
          "base_uri": "https://localhost:8080/"
        },
        "id": "1VYODjcs3i17",
        "outputId": "0c6ea74f-144b-4e65-9dce-e5bf692d2bc5"
      },
      "outputs": [
        {
          "output_type": "stream",
          "name": "stdout",
          "text": [
            "Original:  b'I\\'m sorry but this is just awful. I have told people about this film and some of the bad acting that is in it and they almost don\\'t believe me. There is nothing wrong with the idea, modern day Japanese troops get pulled back in time to the days of Busido warriors and with their modern weapons are a match for almost everything. When the troops first realise something strange is happening does every single person in the back of the transport need to say \"Hey my watch has stopped\"? Imagine lines like that being repeated 15+ times before they say anything else and you have the movie\\'s lack of greatness in a nutshell.'\n",
            "Round-trip:  im sorry but this is just awful i have told people about this film and some of the bad acting that is in it and they almost dont believe me there is nothing wrong with the idea modern day japanese [UNK] get [UNK] back in time to the days of [UNK] [UNK] and with their modern [UNK] are a [UNK] for almost everything when the [UNK] first [UNK] something strange is [UNK] does every single person in the back of the [UNK] need to say [UNK] my watch has [UNK] imagine lines like that being [UNK] [UNK] times before they say anything else and you have the movies lack of [UNK] in a [UNK]                                                                                                                                                                                                                                                                                                                                                                                                                                                                                                                                                                                                                                                                                                                                                                                                                                                                                                                 \n",
            "\n",
            "Original:  b\"SPOILER ALERT ! ! ! Personally I don't understand why Pete did not help to save Williams life,I mean that would be great to know why William was motivated,or forced.I think Secret Service members are every day people,and there is a rumor the writer was a member of the Secret Service,now he's motivations are clear,well known.But as a rental this film will not satisfy you,cause the old but used twists,the average acting -these are just things in this film,only for keep you wait the end.Clark Johnson as the director of S.W.A.T. did a far better work like this time,and I still wondering how the producers (for example Michael Douglas)left this film to theaters.\"\n",
            "Round-trip:  [UNK] [UNK] [UNK] i dont understand why [UNK] did not help to save [UNK] [UNK] mean that would be great to know why [UNK] was [UNK] [UNK] think secret [UNK] [UNK] are every day [UNK] there is a [UNK] the writer was a [UNK] of the secret [UNK] hes [UNK] are [UNK] [UNK] as a [UNK] this film will not [UNK] [UNK] the old but used [UNK] average acting these are just things in this [UNK] for keep you wait the [UNK] [UNK] as the director of [UNK] did a far better work like this [UNK] i still [UNK] how the [UNK] for example michael [UNK] this film to [UNK]                                                                                                                                                                                                                                                                                                                                                                                                                                                                                                                                                                                                                                                                                                                                                                                                                                                                                                                     \n",
            "\n",
            "Original:  b\"I watched Cabin by the Lake this afternoon on USA. Considering this movie was made for TV is was interesting enough to watch the sequel. So, I tune in for the airing this evening and was extremely disappointed. I knew I wouldn't like the movie, but I was not expecting to be perplexed by the use of DV (digital video). The movie would have been tolerable if it wasn't for these juxtaposed digital shots that seemed to come from nowhere. I expected the plot line to be tied in with these shots, but there seemed to be no logical explanation. (WARNING: THE FOLLOWING MAYBE A SPOILER!!!!) The open ending in Cabin by the Lake was acceptable, but the open ending on the sequel is ridiculous. I can only foresee Return of Return to The Cabin by the Lake being watch able is if the movie was shown up against nothing, but infomercials at 4 o'clock in the morning.\"\n",
            "Round-trip:  i watched [UNK] by the [UNK] this [UNK] on [UNK] [UNK] this movie was made for tv is was interesting enough to watch the sequel so i [UNK] in for the [UNK] this [UNK] and was extremely disappointed i knew i wouldnt like the movie but i was not expecting to be [UNK] by the use of [UNK] [UNK] video the movie would have been [UNK] if it wasnt for these [UNK] [UNK] shots that seemed to come from [UNK] i expected the plot line to be [UNK] in with these shots but there seemed to be no [UNK] [UNK] [UNK] the [UNK] maybe a [UNK] the open ending in [UNK] by the [UNK] was [UNK] but the open ending on the sequel is ridiculous i can only [UNK] return of return to the [UNK] by the [UNK] being watch able is if the movie was shown up against nothing but [UNK] at 4 [UNK] in the [UNK]                                                                                                                                                                                                                                                                                                                                                                                                                                                                                                                                                                                                                                                                                                                                                                                                                                                                     \n",
            "\n"
          ]
        }
      ],
      "source": [
        "for n in range(3):\n",
        "  print(\"Original: \", example[n].numpy())\n",
        "  print(\"Round-trip: \", \" \".join(vocab[encoded_example[n]]))\n",
        "  print()"
      ]
    },
    {
      "cell_type": "markdown",
      "metadata": {
        "id": "V2o04p4m3i17"
      },
      "source": [
        "####Buat Model"
      ]
    },
    {
      "cell_type": "code",
      "execution_count": null,
      "metadata": {
        "id": "hsjS6M433i17"
      },
      "outputs": [],
      "source": [
        "model = tf.keras.Sequential([\n",
        "    encoder,\n",
        "    tf.keras.layers.Embedding(\n",
        "        input_dim=len(encoder.get_vocabulary()),\n",
        "        output_dim=64,\n",
        "        # Use masking to handle the variable sequence lengths\n",
        "        mask_zero=True),\n",
        "    tf.keras.layers.Bidirectional(tf.keras.layers.LSTM(64)),\n",
        "    tf.keras.layers.Dense(64, activation='relu'),\n",
        "    tf.keras.layers.Dense(1)\n",
        "])"
      ]
    },
    {
      "cell_type": "markdown",
      "metadata": {
        "id": "4KmnwjB03i18"
      },
      "source": [
        "> Lapisan penyematan menggunakan masking (uses masking ) untuk menangani panjang urutan yang bervariasi."
      ]
    },
    {
      "cell_type": "code",
      "execution_count": null,
      "metadata": {
        "colab": {
          "base_uri": "https://localhost:8080/"
        },
        "id": "MmkZWQfo3i18",
        "outputId": "e213c9f8-ffd5-42ba-a458-3de3d2f7f130"
      },
      "outputs": [
        {
          "output_type": "stream",
          "name": "stdout",
          "text": [
            "[False, True, True, True, True]\n"
          ]
        }
      ],
      "source": [
        "print([layer.supports_masking for layer in model.layers])"
      ]
    },
    {
      "cell_type": "markdown",
      "metadata": {
        "id": "e02OR5AZ3i18"
      },
      "source": [
        "> Untuk memastikan bahwa ini berfungsi seperti yang diharapkan, evaluasi sebuah kalimat dua kali. Pertama, satu kalimat sehingga tidak ada bantalan (padding) untuk disamarkan:"
      ]
    },
    {
      "cell_type": "code",
      "execution_count": null,
      "metadata": {
        "colab": {
          "base_uri": "https://localhost:8080/"
        },
        "id": "2CJwWN_n3i18",
        "outputId": "365792d6-7dfb-45b7-b31a-aea8ef4608ea"
      },
      "outputs": [
        {
          "output_type": "stream",
          "name": "stdout",
          "text": [
            "1/1 [==============================] - 7s 7s/step\n",
            "[0.00475861]\n"
          ]
        }
      ],
      "source": [
        "# predict on a sample text without padding.\n",
        "\n",
        "sample_text = ('The movie was cool. The animation and the graphics '\n",
        "               'were out of this world. I would recommend this movie.')\n",
        "predictions = model.predict(np.array([sample_text]))\n",
        "print(predictions[0])"
      ]
    },
    {
      "cell_type": "markdown",
      "metadata": {
        "id": "KchAMB043i18"
      },
      "source": [
        "> Evaluasi lagi dalam batch dengan kalimat yang lebih panjang"
      ]
    },
    {
      "cell_type": "code",
      "execution_count": null,
      "metadata": {
        "colab": {
          "base_uri": "https://localhost:8080/"
        },
        "id": "PkTehxdA3i18",
        "outputId": "db6ea262-f8fb-454f-9e1b-90effe3331cf"
      },
      "outputs": [
        {
          "output_type": "stream",
          "name": "stdout",
          "text": [
            "1/1 [==============================] - 0s 64ms/step\n",
            "[0.00475861]\n"
          ]
        }
      ],
      "source": [
        "# predict on a sample text with padding\n",
        "\n",
        "padding = \"the \" * 2000\n",
        "predictions = model.predict(np.array([sample_text, padding]))\n",
        "print(predictions[0])"
      ]
    },
    {
      "cell_type": "markdown",
      "metadata": {
        "id": "p9I-2Dvs3i19"
      },
      "source": [
        "> Compile model Keras untuk mengonfigurasi proses pelatihan"
      ]
    },
    {
      "cell_type": "code",
      "execution_count": null,
      "metadata": {
        "id": "Ftj8r0PZ3i19"
      },
      "outputs": [],
      "source": [
        "model.compile(loss=tf.keras.losses.BinaryCrossentropy(from_logits=True),\n",
        "              optimizer=tf.keras.optimizers.Adam(1e-4),\n",
        "              metrics=['accuracy'])"
      ]
    },
    {
      "cell_type": "markdown",
      "metadata": {
        "id": "a9_ETHK63i19"
      },
      "source": [
        "####Train Model"
      ]
    },
    {
      "cell_type": "code",
      "execution_count": null,
      "metadata": {
        "colab": {
          "base_uri": "https://localhost:8080/"
        },
        "id": "kCZGhJb03i19",
        "outputId": "a8278bdf-5647-4a9f-ac27-853bb8dc8f7a"
      },
      "outputs": [
        {
          "output_type": "stream",
          "name": "stdout",
          "text": [
            "Epoch 1/10\n",
            "391/391 [==============================] - 54s 104ms/step - loss: 0.6577 - accuracy: 0.5605 - val_loss: 0.5633 - val_accuracy: 0.6453\n",
            "Epoch 2/10\n",
            "391/391 [==============================] - 27s 68ms/step - loss: 0.4622 - accuracy: 0.7867 - val_loss: 0.3902 - val_accuracy: 0.8245\n",
            "Epoch 3/10\n",
            "391/391 [==============================] - 25s 64ms/step - loss: 0.3588 - accuracy: 0.8399 - val_loss: 0.3519 - val_accuracy: 0.8396\n",
            "Epoch 4/10\n",
            "391/391 [==============================] - 25s 63ms/step - loss: 0.3326 - accuracy: 0.8559 - val_loss: 0.3525 - val_accuracy: 0.8552\n",
            "Epoch 5/10\n",
            "391/391 [==============================] - 26s 66ms/step - loss: 0.3198 - accuracy: 0.8614 - val_loss: 0.3367 - val_accuracy: 0.8500\n",
            "Epoch 6/10\n",
            "391/391 [==============================] - 25s 63ms/step - loss: 0.3116 - accuracy: 0.8666 - val_loss: 0.3281 - val_accuracy: 0.8594\n",
            "Epoch 7/10\n",
            "391/391 [==============================] - 25s 63ms/step - loss: 0.3106 - accuracy: 0.8651 - val_loss: 0.3228 - val_accuracy: 0.8609\n",
            "Epoch 8/10\n",
            "391/391 [==============================] - 25s 64ms/step - loss: 0.3051 - accuracy: 0.8689 - val_loss: 0.3215 - val_accuracy: 0.8604\n",
            "Epoch 9/10\n",
            "391/391 [==============================] - 26s 66ms/step - loss: 0.3055 - accuracy: 0.8690 - val_loss: 0.3211 - val_accuracy: 0.8557\n",
            "Epoch 10/10\n",
            "391/391 [==============================] - 25s 64ms/step - loss: 0.3007 - accuracy: 0.8707 - val_loss: 0.3235 - val_accuracy: 0.8542\n"
          ]
        }
      ],
      "source": [
        "history = model.fit(train_dataset, epochs=10,\n",
        "                    validation_data=test_dataset,\n",
        "                    validation_steps=30)"
      ]
    },
    {
      "cell_type": "code",
      "execution_count": null,
      "metadata": {
        "colab": {
          "base_uri": "https://localhost:8080/"
        },
        "id": "Oh3bMKP-3i19",
        "outputId": "4c3dddae-51b2-4f78-ebd2-97889657ed8b"
      },
      "outputs": [
        {
          "output_type": "stream",
          "name": "stdout",
          "text": [
            "391/391 [==============================] - 12s 31ms/step - loss: 0.3204 - accuracy: 0.8568\n",
            "Test Loss: 0.32042932510375977\n",
            "Test Accuracy: 0.8567600250244141\n"
          ]
        }
      ],
      "source": [
        "test_loss, test_acc = model.evaluate(test_dataset)\n",
        "\n",
        "print('Test Loss:', test_loss)\n",
        "print('Test Accuracy:', test_acc)"
      ]
    },
    {
      "cell_type": "code",
      "execution_count": null,
      "metadata": {
        "colab": {
          "base_uri": "https://localhost:8080/",
          "height": 371
        },
        "id": "Gt7tTiO23i19",
        "outputId": "8741e56b-8306-41c5-8673-4958b635634b"
      },
      "outputs": [
        {
          "output_type": "execute_result",
          "data": {
            "text/plain": [
              "(0.0, 0.6755493849515914)"
            ]
          },
          "metadata": {},
          "execution_count": 28
        },
        {
          "output_type": "display_data",
          "data": {
            "text/plain": [
              "<Figure size 1600x800 with 2 Axes>"
            ],
            "image/png": "[encoded data removed]"
          },
          "metadata": {}
        }
      ],
      "source": [
        "plt.figure(figsize=(16, 8))\n",
        "plt.subplot(1, 2, 1)\n",
        "plot_graphs(history, 'accuracy')\n",
        "plt.ylim(None, 1)\n",
        "plt.subplot(1, 2, 2)\n",
        "plot_graphs(history, 'loss')\n",
        "plt.ylim(0, None)"
      ]
    },
    {
      "cell_type": "markdown",
      "metadata": {
        "id": "LUntOsCh3i1-"
      },
      "source": [
        "> Jalankan prediksi pada kalimat baru: Jika prediksi >= 0,0 berarti positif, jika tidak maka negatif."
      ]
    },
    {
      "cell_type": "code",
      "execution_count": null,
      "metadata": {
        "colab": {
          "base_uri": "https://localhost:8080/"
        },
        "id": "vfiqJSWf3i1-",
        "outputId": "2e328036-26fb-467e-9e4d-c7a4de4d37c4"
      },
      "outputs": [
        {
          "output_type": "stream",
          "name": "stdout",
          "text": [
            "1/1 [==============================] - 3s 3s/step\n"
          ]
        }
      ],
      "source": [
        "sample_text = ('The movie was cool. The animation and the graphics '\n",
        "               'were out of this world. I would recommend this movie.')\n",
        "predictions = model.predict(np.array([sample_text]))"
      ]
    },
    {
      "cell_type": "markdown",
      "metadata": {
        "id": "N1zzpWlx3i1-"
      },
      "source": [
        "####Stack two or more LSTM layers"
      ]
    },
    {
      "cell_type": "markdown",
      "metadata": {
        "id": "lTLMO_yi3i1-"
      },
      "source": [
        "> Lapisan berulang Keras memiliki dua mode yang tersedia yang dikontrol oleh argumen konstruktor return_sequences :\n",
        "> Jika False, ia hanya mengembalikan keluaran terakhir untuk setiap urutan masukan (bentuk tensor 2D (batch_size, output_features)). Ini adalah default yang digunakan pada model sebelumnya.\n",
        "> Jika True, Sequence lengkap output berturut-turut untuk setiap langkah waktu dikembalikan (bentuk tensor 3D (ukuran_batch, langkah waktu, fitur_output))."
      ]
    },
    {
      "cell_type": "markdown",
      "metadata": {
        "id": "SPrQdeb43i2E"
      },
      "source": [
        "> Hal yang menarik dari penggunaan RNN dengan return_sequences=True adalah outputnya masih memiliki 3 axis, sama seperti inputnya, sehingga bisa diteruskan ke layer RNN lain, seperti ini:"
      ]
    },
    {
      "cell_type": "code",
      "execution_count": null,
      "metadata": {
        "id": "zH-fjYM43i2E"
      },
      "outputs": [],
      "source": [
        "model = tf.keras.Sequential([\n",
        "    encoder,\n",
        "    tf.keras.layers.Embedding(len(encoder.get_vocabulary()), 64, mask_zero=True),\n",
        "    tf.keras.layers.Bidirectional(tf.keras.layers.LSTM(64,  return_sequences=True)),\n",
        "    tf.keras.layers.Bidirectional(tf.keras.layers.LSTM(32)),\n",
        "    tf.keras.layers.Dense(64, activation='relu'),\n",
        "    tf.keras.layers.Dropout(0.5),\n",
        "    tf.keras.layers.Dense(1)\n",
        "])"
      ]
    },
    {
      "cell_type": "code",
      "execution_count": null,
      "metadata": {
        "id": "fFh45gOj3i2E"
      },
      "outputs": [],
      "source": [
        "model.compile(loss=tf.keras.losses.BinaryCrossentropy(from_logits=True),\n",
        "              optimizer=tf.keras.optimizers.Adam(1e-4),\n",
        "              metrics=['accuracy'])"
      ]
    },
    {
      "cell_type": "code",
      "execution_count": null,
      "metadata": {
        "colab": {
          "base_uri": "https://localhost:8080/"
        },
        "id": "6EzEbPvy3i2F",
        "outputId": "157902ce-26e2-46e6-8472-fdb3b949cba3"
      },
      "outputs": [
        {
          "output_type": "stream",
          "name": "stdout",
          "text": [
            "Epoch 1/10\n",
            "391/391 [==============================] - 80s 149ms/step - loss: 0.6251 - accuracy: 0.5928 - val_loss: 0.4378 - val_accuracy: 0.8036\n",
            "Epoch 2/10\n",
            "391/391 [==============================] - 46s 118ms/step - loss: 0.3898 - accuracy: 0.8323 - val_loss: 0.3522 - val_accuracy: 0.8427\n",
            "Epoch 3/10\n",
            "391/391 [==============================] - 46s 117ms/step - loss: 0.3437 - accuracy: 0.8554 - val_loss: 0.3316 - val_accuracy: 0.8464\n",
            "Epoch 4/10\n",
            "391/391 [==============================] - 44s 112ms/step - loss: 0.3228 - accuracy: 0.8661 - val_loss: 0.3245 - val_accuracy: 0.8464\n",
            "Epoch 5/10\n",
            "391/391 [==============================] - 45s 114ms/step - loss: 0.3147 - accuracy: 0.8681 - val_loss: 0.3193 - val_accuracy: 0.8599\n",
            "Epoch 6/10\n",
            "391/391 [==============================] - 44s 112ms/step - loss: 0.3065 - accuracy: 0.8701 - val_loss: 0.3151 - val_accuracy: 0.8604\n",
            "Epoch 7/10\n",
            "391/391 [==============================] - 45s 115ms/step - loss: 0.3060 - accuracy: 0.8693 - val_loss: 0.3167 - val_accuracy: 0.8630\n",
            "Epoch 8/10\n",
            "391/391 [==============================] - 45s 114ms/step - loss: 0.2984 - accuracy: 0.8718 - val_loss: 0.3148 - val_accuracy: 0.8599\n",
            "Epoch 9/10\n",
            "391/391 [==============================] - 49s 124ms/step - loss: 0.2956 - accuracy: 0.8727 - val_loss: 0.3293 - val_accuracy: 0.8703\n",
            "Epoch 10/10\n",
            "391/391 [==============================] - 49s 125ms/step - loss: 0.2945 - accuracy: 0.8745 - val_loss: 0.3305 - val_accuracy: 0.8693\n"
          ]
        }
      ],
      "source": [
        "history = model.fit(train_dataset, epochs=10,\n",
        "                    validation_data=test_dataset,\n",
        "                    validation_steps=30)"
      ]
    },
    {
      "cell_type": "code",
      "execution_count": null,
      "metadata": {
        "colab": {
          "base_uri": "https://localhost:8080/"
        },
        "id": "ri1-4KTV3i2F",
        "outputId": "d2595ed3-8882-4f3c-bb23-a2a8d06d1360"
      },
      "outputs": [
        {
          "output_type": "stream",
          "name": "stdout",
          "text": [
            "391/391 [==============================] - 22s 57ms/step - loss: 0.3344 - accuracy: 0.8632\n",
            "Test Loss: 0.33438101410865784\n",
            "Test Accuracy: 0.8631600141525269\n"
          ]
        }
      ],
      "source": [
        "test_loss, test_acc = model.evaluate(test_dataset)\n",
        "\n",
        "print('Test Loss:', test_loss)\n",
        "print('Test Accuracy:', test_acc)"
      ]
    },
    {
      "cell_type": "code",
      "execution_count": null,
      "metadata": {
        "colab": {
          "base_uri": "https://localhost:8080/"
        },
        "id": "8fwxRAkZ3i2F",
        "outputId": "882d98ea-e21d-419a-fcbc-90d93a76e57b"
      },
      "outputs": [
        {
          "output_type": "stream",
          "name": "stdout",
          "text": [
            "1/1 [==============================] - 6s 6s/step\n",
            "[[-2.0759974]]\n"
          ]
        }
      ],
      "source": [
        "# predict on a sample text without padding.\n",
        "\n",
        "sample_text = ('The movie was not good. The animation and the graphics '\n",
        "               'were terrible. I would not recommend this movie.')\n",
        "predictions = model.predict(np.array([sample_text]))\n",
        "print(predictions)"
      ]
    },
    {
      "cell_type": "code",
      "execution_count": null,
      "metadata": {
        "colab": {
          "base_uri": "https://localhost:8080/",
          "height": 274
        },
        "id": "8z_G_4xM3i2F",
        "outputId": "07a93d86-2451-4260-e64a-42a779bb41d6"
      },
      "outputs": [
        {
          "output_type": "display_data",
          "data": {
            "text/plain": [
              "<Figure size 1600x600 with 2 Axes>"
            ],
            "image/png": "[encoded data removed]"
          },
          "metadata": {}
        }
      ],
      "source": [
        "plt.figure(figsize=(16, 6))\n",
        "plt.subplot(1, 2, 1)\n",
        "plot_graphs(history, 'accuracy')\n",
        "plt.subplot(1, 2, 2)\n",
        "plot_graphs(history, 'loss')"
      ]
    },
    {
      "cell_type": "markdown",
      "source": [
        "###Praktikum 2\n",
        "> Generator Teks dengan RNN"
      ],
      "metadata": {
        "id": "f7W_CKRK9WrX"
      }
    },
    {
      "cell_type": "markdown",
      "source": [
        "####Setup"
      ],
      "metadata": {
        "id": "vfivNqaw9dVJ"
      }
    },
    {
      "cell_type": "markdown",
      "source": [
        "#####Import Tersorflow dan Download Dataset Shakespeare"
      ],
      "metadata": {
        "id": "W8-Iu_Ss9twZ"
      }
    },
    {
      "cell_type": "code",
      "source": [
        "import tensorflow as tf\n",
        "import numpy as np\n",
        "import os\n",
        "import time"
      ],
      "metadata": {
        "id": "OdOPEGVY97MM"
      },
      "execution_count": null,
      "outputs": []
    },
    {
      "cell_type": "code",
      "source": [
        "path_to_file = tf.keras.utils.get_file('shakespeare.txt', 'https://storage.googleapis.com/download.tensorflow.org/data/shakespeare.txt')"
      ],
      "metadata": {
        "id": "-Slpu5WI-D3c"
      },
      "execution_count": null,
      "outputs": []
    },
    {
      "cell_type": "markdown",
      "source": [
        "####Load Data"
      ],
      "metadata": {
        "id": "nmSeiA3d90zL"
      }
    },
    {
      "cell_type": "code",
      "source": [
        "# Read, then decode for py2 compat.\n",
        "text = open(path_to_file, 'rb').read().decode(encoding='utf-8')\n",
        "# length of text is the number of characters in it\n",
        "print(f'Length of text: {len(text)} characters')"
      ],
      "metadata": {
        "colab": {
          "base_uri": "https://localhost:8080/"
        },
        "id": "zt4Uw99Y-KE2",
        "outputId": "78ae4faf-acae-433a-830e-cdc28f37b79d"
      },
      "execution_count": null,
      "outputs": [
        {
          "output_type": "stream",
          "name": "stdout",
          "text": [
            "Length of text: 1115394 characters\n"
          ]
        }
      ]
    },
    {
      "cell_type": "code",
      "source": [
        "# Take a look at the first 250 characters in text\n",
        "print(text[:250])"
      ],
      "metadata": {
        "colab": {
          "base_uri": "https://localhost:8080/"
        },
        "id": "-yBjG1K1-KbU",
        "outputId": "0e05d21c-2164-4a8f-fed6-06df8e7b5662"
      },
      "execution_count": null,
      "outputs": [
        {
          "output_type": "stream",
          "name": "stdout",
          "text": [
            "First Citizen:\n",
            "Before we proceed any further, hear me speak.\n",
            "\n",
            "All:\n",
            "Speak, speak.\n",
            "\n",
            "First Citizen:\n",
            "You are all resolved rather to die than to famish?\n",
            "\n",
            "All:\n",
            "Resolved. resolved.\n",
            "\n",
            "First Citizen:\n",
            "First, you know Caius Marcius is chief enemy to the people.\n",
            "\n"
          ]
        }
      ]
    },
    {
      "cell_type": "code",
      "source": [
        "# The unique characters in the file\n",
        "vocab = sorted(set(text))\n",
        "print(f'{len(vocab)} unique characters')"
      ],
      "metadata": {
        "colab": {
          "base_uri": "https://localhost:8080/"
        },
        "id": "oQoG9DxX-L-M",
        "outputId": "1915255c-085c-4c58-f0ee-a5950365e530"
      },
      "execution_count": null,
      "outputs": [
        {
          "output_type": "stream",
          "name": "stdout",
          "text": [
            "65 unique characters\n"
          ]
        }
      ]
    },
    {
      "cell_type": "markdown",
      "source": [
        "####Olah Teks"
      ],
      "metadata": {
        "id": "2OK4dOYv-Npl"
      }
    },
    {
      "cell_type": "markdown",
      "source": [
        "#####Vectorize Teks"
      ],
      "metadata": {
        "id": "7igWtUBp-Ps1"
      }
    },
    {
      "cell_type": "markdown",
      "source": [
        "> Sebelum training, Anda perlu mengonversi string menjadi representasi numerik. tf.keras.layers.StringLookup dapat mengubah setiap karakter menjadi ID numerik. Caranya adalah teks akan dipecah menjadi token terlebih dahulu."
      ],
      "metadata": {
        "id": "VMcCnmz0-TIO"
      }
    },
    {
      "cell_type": "code",
      "source": [
        "example_texts = ['abcdefg', 'xyz']\n",
        "chars = tf.strings.unicode_split(example_texts, input_encoding='UTF-8')\n",
        "chars"
      ],
      "metadata": {
        "colab": {
          "base_uri": "https://localhost:8080/"
        },
        "id": "imJ5O6i8-UqO",
        "outputId": "64ae57e7-d1fc-4391-ca01-6853a83b26ef"
      },
      "execution_count": null,
      "outputs": [
        {
          "output_type": "execute_result",
          "data": {
            "text/plain": [
              "<tf.RaggedTensor [[b'a', b'b', b'c', b'd', b'e', b'f', b'g'], [b'x', b'y', b'z']]>"
            ]
          },
          "metadata": {},
          "execution_count": 109
        }
      ]
    },
    {
      "cell_type": "markdown",
      "source": [
        "> tf.keras.layers.StringLookup"
      ],
      "metadata": {
        "id": "N5GgNm1k-jRU"
      }
    },
    {
      "cell_type": "code",
      "source": [
        "ids_from_chars = tf.keras.layers.StringLookup(\n",
        "    vocabulary=list(vocab), mask_token=None)"
      ],
      "metadata": {
        "id": "WBiPnyxg-W4d"
      },
      "execution_count": null,
      "outputs": []
    },
    {
      "cell_type": "markdown",
      "source": [
        "> perintah diatas mengconvert token menjadi id"
      ],
      "metadata": {
        "id": "OE5ICFrH-oet"
      }
    },
    {
      "cell_type": "code",
      "source": [
        "ids = ids_from_chars(chars)\n",
        "ids"
      ],
      "metadata": {
        "colab": {
          "base_uri": "https://localhost:8080/"
        },
        "id": "T2IGObwt-m8M",
        "outputId": "6bc34753-0514-4ced-ca4a-c6001d9a27d9"
      },
      "execution_count": null,
      "outputs": [
        {
          "output_type": "execute_result",
          "data": {
            "text/plain": [
              "<tf.RaggedTensor [[40, 41, 42, 43, 44, 45, 46], [63, 64, 65]]>"
            ]
          },
          "metadata": {},
          "execution_count": 111
        }
      ]
    },
    {
      "cell_type": "markdown",
      "source": [
        "> menggunakan metode get_vocabulary() dari tf.keras.layers.StringLookup sehingga token [UNK] disetel dengan cara yang sama"
      ],
      "metadata": {
        "id": "r3XZ9bpZ_LoG"
      }
    },
    {
      "cell_type": "code",
      "source": [
        "chars_from_ids = tf.keras.layers.StringLookup(\n",
        "    vocabulary=ids_from_chars.get_vocabulary(), invert=True, mask_token=None)"
      ],
      "metadata": {
        "id": "APupxD2Q-sH8"
      },
      "execution_count": null,
      "outputs": []
    },
    {
      "cell_type": "markdown",
      "source": [
        "> Convert kembali karakter dari vektor ID, dan mengembalikannya sebagai karakter tf.RaggedTensor"
      ],
      "metadata": {
        "id": "9v0uSbIt_QTE"
      }
    },
    {
      "cell_type": "code",
      "source": [
        "chars = chars_from_ids(ids)\n",
        "chars"
      ],
      "metadata": {
        "colab": {
          "base_uri": "https://localhost:8080/"
        },
        "id": "Brwj84uB-tlg",
        "outputId": "1b80417d-bc6d-4987-ac69-33836b272e60"
      },
      "execution_count": null,
      "outputs": [
        {
          "output_type": "execute_result",
          "data": {
            "text/plain": [
              "<tf.RaggedTensor [[b'a', b'b', b'c', b'd', b'e', b'f', b'g'], [b'x', b'y', b'z']]>"
            ]
          },
          "metadata": {},
          "execution_count": 113
        }
      ]
    },
    {
      "cell_type": "markdown",
      "source": [
        "> menggunakan tf.strings.reduce_join untuk menggabungkan kembali karakter menjadi string."
      ],
      "metadata": {
        "id": "7xcKIhd0_UCp"
      }
    },
    {
      "cell_type": "code",
      "source": [
        "tf.strings.reduce_join(chars, axis=-1).numpy()"
      ],
      "metadata": {
        "colab": {
          "base_uri": "https://localhost:8080/"
        },
        "id": "rAVHM7ol-vks",
        "outputId": "8e52e51d-2167-460d-b133-4c9bfa92f029"
      },
      "execution_count": null,
      "outputs": [
        {
          "output_type": "execute_result",
          "data": {
            "text/plain": [
              "array([b'abcdefg', b'xyz'], dtype=object)"
            ]
          },
          "metadata": {},
          "execution_count": 114
        }
      ]
    },
    {
      "cell_type": "code",
      "source": [
        "def text_from_ids(ids):\n",
        "    return tf.strings.reduce_join(chars_from_ids(ids), axis=-1)"
      ],
      "metadata": {
        "id": "EJ2AogwW-wL0"
      },
      "execution_count": null,
      "outputs": []
    },
    {
      "cell_type": "markdown",
      "source": [
        "####Prediksi"
      ],
      "metadata": {
        "id": "cLi7_sp7_WPi"
      }
    },
    {
      "cell_type": "markdown",
      "source": [
        "#####Membuat Trianing Set dan Target"
      ],
      "metadata": {
        "id": "Y9szBmFT_dDT"
      }
    },
    {
      "cell_type": "code",
      "source": [
        "all_ids = ids_from_chars(tf.strings.unicode_split(text, 'UTF-8'))\n",
        "all_ids"
      ],
      "metadata": {
        "colab": {
          "base_uri": "https://localhost:8080/"
        },
        "id": "Iy4wILzT_gUX",
        "outputId": "c2d5c72e-1ce9-4623-ae0d-3bd7917979a7"
      },
      "execution_count": null,
      "outputs": [
        {
          "output_type": "execute_result",
          "data": {
            "text/plain": [
              "<tf.Tensor: shape=(1115394,), dtype=int64, numpy=array([19, 48, 57, ..., 46,  9,  1])>"
            ]
          },
          "metadata": {},
          "execution_count": 116
        }
      ]
    },
    {
      "cell_type": "code",
      "source": [
        "ids_dataset = tf.data.Dataset.from_tensor_slices(all_ids)"
      ],
      "metadata": {
        "id": "UCPrVz0L_g8s"
      },
      "execution_count": null,
      "outputs": []
    },
    {
      "cell_type": "code",
      "source": [
        "for ids in ids_dataset.take(10):\n",
        "    print(chars_from_ids(ids).numpy().decode('utf-8'))"
      ],
      "metadata": {
        "colab": {
          "base_uri": "https://localhost:8080/"
        },
        "id": "2anPfziy_iAm",
        "outputId": "2ef15197-ecee-4b84-d80f-f0e27003b5af"
      },
      "execution_count": null,
      "outputs": [
        {
          "output_type": "stream",
          "name": "stdout",
          "text": [
            "F\n",
            "i\n",
            "r\n",
            "s\n",
            "t\n",
            " \n",
            "C\n",
            "i\n",
            "t\n",
            "i\n"
          ]
        }
      ]
    },
    {
      "cell_type": "code",
      "source": [
        "seq_length = 100"
      ],
      "metadata": {
        "id": "ouj5RscW_i3A"
      },
      "execution_count": null,
      "outputs": []
    },
    {
      "cell_type": "code",
      "source": [
        "sequences = ids_dataset.batch(seq_length+1, drop_remainder=True)\n",
        "\n",
        "for seq in sequences.take(1):\n",
        "  print(chars_from_ids(seq))"
      ],
      "metadata": {
        "colab": {
          "base_uri": "https://localhost:8080/"
        },
        "id": "iwhDkWB9_ka3",
        "outputId": "7d7c52b6-9946-4497-d7ff-b0000f69d97d"
      },
      "execution_count": null,
      "outputs": [
        {
          "output_type": "stream",
          "name": "stdout",
          "text": [
            "tf.Tensor(\n",
            "[b'F' b'i' b'r' b's' b't' b' ' b'C' b'i' b't' b'i' b'z' b'e' b'n' b':'\n",
            " b'\\n' b'B' b'e' b'f' b'o' b'r' b'e' b' ' b'w' b'e' b' ' b'p' b'r' b'o'\n",
            " b'c' b'e' b'e' b'd' b' ' b'a' b'n' b'y' b' ' b'f' b'u' b'r' b't' b'h'\n",
            " b'e' b'r' b',' b' ' b'h' b'e' b'a' b'r' b' ' b'm' b'e' b' ' b's' b'p'\n",
            " b'e' b'a' b'k' b'.' b'\\n' b'\\n' b'A' b'l' b'l' b':' b'\\n' b'S' b'p' b'e'\n",
            " b'a' b'k' b',' b' ' b's' b'p' b'e' b'a' b'k' b'.' b'\\n' b'\\n' b'F' b'i'\n",
            " b'r' b's' b't' b' ' b'C' b'i' b't' b'i' b'z' b'e' b'n' b':' b'\\n' b'Y'\n",
            " b'o' b'u' b' '], shape=(101,), dtype=string)\n"
          ]
        }
      ]
    },
    {
      "cell_type": "markdown",
      "source": [
        "> menggabungkan token kembali menjadi string"
      ],
      "metadata": {
        "id": "Zs2LKTgQ_m_1"
      }
    },
    {
      "cell_type": "code",
      "source": [
        "for seq in sequences.take(5):\n",
        "    print(text_from_ids(seq).numpy())"
      ],
      "metadata": {
        "colab": {
          "base_uri": "https://localhost:8080/"
        },
        "id": "ZYnSCi7i_lqW",
        "outputId": "2071e3c5-e68f-4e86-b2b1-71cc0f5d840d"
      },
      "execution_count": null,
      "outputs": [
        {
          "output_type": "stream",
          "name": "stdout",
          "text": [
            "b'First Citizen:\\nBefore we proceed any further, hear me speak.\\n\\nAll:\\nSpeak, speak.\\n\\nFirst Citizen:\\nYou '\n",
            "b'are all resolved rather to die than to famish?\\n\\nAll:\\nResolved. resolved.\\n\\nFirst Citizen:\\nFirst, you k'\n",
            "b\"now Caius Marcius is chief enemy to the people.\\n\\nAll:\\nWe know't, we know't.\\n\\nFirst Citizen:\\nLet us ki\"\n",
            "b\"ll him, and we'll have corn at our own price.\\nIs't a verdict?\\n\\nAll:\\nNo more talking on't; let it be d\"\n",
            "b'one: away, away!\\n\\nSecond Citizen:\\nOne word, good citizens.\\n\\nFirst Citizen:\\nWe are accounted poor citi'\n"
          ]
        }
      ]
    },
    {
      "cell_type": "markdown",
      "source": [
        "> mengambil urutan sebagai masukan, menduplikasi, dan menggesernya untuk menyelaraskan masukan dan label untuk setiap langkah waktu"
      ],
      "metadata": {
        "id": "DzxuIIMG_r7R"
      }
    },
    {
      "cell_type": "code",
      "source": [
        "def split_input_target(sequence):\n",
        "  input_text = sequence[:-1]\n",
        "  target_text = sequence[1:]\n",
        "  return input_text, target_text"
      ],
      "metadata": {
        "id": "VrqNOY_H_tOn"
      },
      "execution_count": null,
      "outputs": []
    },
    {
      "cell_type": "code",
      "source": [
        "split_input_target(list(\"Tensorflow\"))"
      ],
      "metadata": {
        "colab": {
          "base_uri": "https://localhost:8080/"
        },
        "id": "Nf_GfSFb_xv3",
        "outputId": "52bb35bc-fd27-4e4d-81a0-4ed5182a97e2"
      },
      "execution_count": null,
      "outputs": [
        {
          "output_type": "execute_result",
          "data": {
            "text/plain": [
              "(['T', 'e', 'n', 's', 'o', 'r', 'f', 'l', 'o'],\n",
              " ['e', 'n', 's', 'o', 'r', 'f', 'l', 'o', 'w'])"
            ]
          },
          "metadata": {},
          "execution_count": 123
        }
      ]
    },
    {
      "cell_type": "code",
      "source": [
        "dataset = sequences.map(split_input_target)"
      ],
      "metadata": {
        "id": "rzT1ePTU_yl_"
      },
      "execution_count": null,
      "outputs": []
    },
    {
      "cell_type": "code",
      "source": [
        "for input_example, target_example in dataset.take(1):\n",
        "    print(\"Input :\", text_from_ids(input_example).numpy())\n",
        "    print(\"Target:\", text_from_ids(target_example).numpy())"
      ],
      "metadata": {
        "colab": {
          "base_uri": "https://localhost:8080/"
        },
        "id": "lje7Hn8o_zVm",
        "outputId": "cb547e93-2995-48e6-a951-d065c59fa43f"
      },
      "execution_count": null,
      "outputs": [
        {
          "output_type": "stream",
          "name": "stdout",
          "text": [
            "Input : b'First Citizen:\\nBefore we proceed any further, hear me speak.\\n\\nAll:\\nSpeak, speak.\\n\\nFirst Citizen:\\nYou'\n",
            "Target: b'irst Citizen:\\nBefore we proceed any further, hear me speak.\\n\\nAll:\\nSpeak, speak.\\n\\nFirst Citizen:\\nYou '\n"
          ]
        }
      ]
    },
    {
      "cell_type": "markdown",
      "source": [
        "#####Membuat Batch Training"
      ],
      "metadata": {
        "id": "QvC5yzLe_1eH"
      }
    },
    {
      "cell_type": "code",
      "source": [
        "# Batch size\n",
        "BATCH_SIZE = 64\n",
        "\n",
        "# Buffer size to shuffle the dataset\n",
        "# (TF data is designed to work with possibly infinite sequences,\n",
        "# so it doesn't attempt to shuffle the entire sequence in memory. Instead,\n",
        "# it maintains a buffer in which it shuffles elements).\n",
        "BUFFER_SIZE = 10000\n",
        "\n",
        "dataset = (\n",
        "    dataset\n",
        "    .shuffle(BUFFER_SIZE)\n",
        "    .batch(BATCH_SIZE, drop_remainder=True)\n",
        "    .prefetch(tf.data.experimental.AUTOTUNE))\n",
        "\n",
        "dataset"
      ],
      "metadata": {
        "colab": {
          "base_uri": "https://localhost:8080/"
        },
        "id": "nngdxXAe_8D5",
        "outputId": "ffffc459-ed56-4d6b-b457-ae67cdb9e0a5"
      },
      "execution_count": null,
      "outputs": [
        {
          "output_type": "execute_result",
          "data": {
            "text/plain": [
              "<_PrefetchDataset element_spec=(TensorSpec(shape=(64, 100), dtype=tf.int64, name=None), TensorSpec(shape=(64, 100), dtype=tf.int64, name=None))>"
            ]
          },
          "metadata": {},
          "execution_count": 126
        }
      ]
    },
    {
      "cell_type": "markdown",
      "source": [
        "####Buat Model"
      ],
      "metadata": {
        "id": "pnRieTCxAHFj"
      }
    },
    {
      "cell_type": "code",
      "source": [
        "# Length of the vocabulary in StringLookup Layer\n",
        "vocab_size = len(ids_from_chars.get_vocabulary())\n",
        "\n",
        "# The embedding dimension\n",
        "embedding_dim = 256\n",
        "\n",
        "# Number of RNN units\n",
        "rnn_units = 1024"
      ],
      "metadata": {
        "id": "tNEC-pVmAKuq"
      },
      "execution_count": null,
      "outputs": []
    },
    {
      "cell_type": "code",
      "source": [
        "class MyModel(tf.keras.Model):\n",
        "  def __init__(self, vocab_size, embedding_dim, rnn_units):\n",
        "    super().__init__(self)\n",
        "    self.embedding = tf.keras.layers.Embedding(vocab_size, embedding_dim)\n",
        "    self.gru = tf.keras.layers.GRU(rnn_units,\n",
        "                                   return_sequences=True,\n",
        "                                   return_state=True)\n",
        "    self.dense = tf.keras.layers.Dense(vocab_size)\n",
        "\n",
        "  def call(self, inputs, states=None, return_state=False, training=False):\n",
        "    x = inputs\n",
        "    x = self.embedding(x, training=training)\n",
        "    if states is None:\n",
        "      states = self.gru.get_initial_state(x)\n",
        "    x, states = self.gru(x, initial_state=states, training=training)\n",
        "    x = self.dense(x, training=training)\n",
        "\n",
        "    if return_state:\n",
        "      return x, states\n",
        "    else:\n",
        "      return x"
      ],
      "metadata": {
        "id": "FIf8JYpvALvs"
      },
      "execution_count": null,
      "outputs": []
    },
    {
      "cell_type": "code",
      "source": [
        "model = MyModel(\n",
        "    vocab_size=vocab_size,\n",
        "    embedding_dim=embedding_dim,\n",
        "    rnn_units=rnn_units)"
      ],
      "metadata": {
        "id": "iRPEQ52dAM4L"
      },
      "execution_count": null,
      "outputs": []
    },
    {
      "cell_type": "markdown",
      "source": [
        "####Uji Model"
      ],
      "metadata": {
        "id": "UoXlgy5CAN1k"
      }
    },
    {
      "cell_type": "code",
      "source": [
        "for input_example_batch, target_example_batch in dataset.take(1):\n",
        "    example_batch_predictions = model(input_example_batch)\n",
        "    print(example_batch_predictions.shape, \"# (batch_size, sequence_length, vocab_size)\")"
      ],
      "metadata": {
        "colab": {
          "base_uri": "https://localhost:8080/"
        },
        "id": "1eowPbX9APR9",
        "outputId": "9e4b1201-65b1-4a84-b7c2-99a5fca41184"
      },
      "execution_count": null,
      "outputs": [
        {
          "output_type": "stream",
          "name": "stdout",
          "text": [
            "(64, 100, 66) # (batch_size, sequence_length, vocab_size)\n"
          ]
        }
      ]
    },
    {
      "cell_type": "code",
      "source": [
        "model.summary()"
      ],
      "metadata": {
        "colab": {
          "base_uri": "https://localhost:8080/"
        },
        "id": "tYmLaF7oAQbM",
        "outputId": "052184d0-a79c-4470-ce34-7118bc8a27cc"
      },
      "execution_count": null,
      "outputs": [
        {
          "output_type": "stream",
          "name": "stdout",
          "text": [
            "Model: \"my_model_2\"\n",
            "_________________________________________________________________\n",
            " Layer (type)                Output Shape              Param #   \n",
            "=================================================================\n",
            " embedding_4 (Embedding)     multiple                  16896     \n",
            "                                                                 \n",
            " gru_2 (GRU)                 multiple                  3938304   \n",
            "                                                                 \n",
            " dense_6 (Dense)             multiple                  67650     \n",
            "                                                                 \n",
            "=================================================================\n",
            "Total params: 4022850 (15.35 MB)\n",
            "Trainable params: 4022850 (15.35 MB)\n",
            "Non-trainable params: 0 (0.00 Byte)\n",
            "_________________________________________________________________\n"
          ]
        }
      ]
    },
    {
      "cell_type": "markdown",
      "source": [
        "> mengambil sampel dari distribusi keluaran, untuk mendapatkan indeks karakter aktual."
      ],
      "metadata": {
        "id": "yteVjjWeBCSv"
      }
    },
    {
      "cell_type": "code",
      "source": [
        "sampled_indices = tf.random.categorical(example_batch_predictions[0], num_samples=1)\n",
        "sampled_indices = tf.squeeze(sampled_indices, axis=-1).numpy()"
      ],
      "metadata": {
        "id": "YzTP9jMkAupX"
      },
      "execution_count": null,
      "outputs": []
    },
    {
      "cell_type": "code",
      "source": [
        "sampled_indices"
      ],
      "metadata": {
        "colab": {
          "base_uri": "https://localhost:8080/"
        },
        "id": "r7ONxRtnAv-N",
        "outputId": "66c7dbcd-8bd7-4060-e2fe-73c04340f300"
      },
      "execution_count": null,
      "outputs": [
        {
          "output_type": "execute_result",
          "data": {
            "text/plain": [
              "array([52, 15,  3, 45, 30, 20, 47, 57, 13, 33, 61, 57, 57, 18, 60, 16, 51,\n",
              "       59, 36, 62, 30, 61, 61, 27, 53, 61, 51,  7, 22, 19,  2, 49, 21, 43,\n",
              "       64, 36, 47, 52, 64, 15,  3,  4, 21, 23,  7, 25, 13,  5,  4, 14, 58,\n",
              "       55, 13, 44,  2, 52, 17, 54, 13, 64,  1, 15,  6, 60, 53, 36, 39,  5,\n",
              "       62, 10, 51, 25, 38, 56, 57, 63, 56, 36, 25,  9,  3, 50,  6, 64,  8,\n",
              "       20, 33, 23, 48, 30, 33,  8, 39, 19, 54, 41, 65, 24, 52, 13])"
            ]
          },
          "metadata": {},
          "execution_count": 133
        }
      ]
    },
    {
      "cell_type": "markdown",
      "source": [
        "> melihat teks yang diprediksi oleh model tidak terlatih ini"
      ],
      "metadata": {
        "id": "E7nqRYdoA8dZ"
      }
    },
    {
      "cell_type": "code",
      "source": [
        "print(\"Input:\\n\", text_from_ids(input_example_batch[0]).numpy())\n",
        "print()\n",
        "print(\"Next Char Predictions:\\n\", text_from_ids(sampled_indices).numpy())"
      ],
      "metadata": {
        "colab": {
          "base_uri": "https://localhost:8080/"
        },
        "id": "Vw0ETOGvAzxV",
        "outputId": "5b401a54-3165-4b3d-c6bd-bd01e9a535f9"
      },
      "execution_count": null,
      "outputs": [
        {
          "output_type": "stream",
          "name": "stdout",
          "text": [
            "Input:\n",
            " b'uite thy kindness,\\nFor that it made my imprisonment a pleasure;\\nAy, such a pleasure as incaged birds'\n",
            "\n",
            "Next Char Predictions:\n",
            " b\"mB!fQGhr?TvrrEuCltWwQvvNnvl,IF jHdyWhmyB!$HJ,L?&$Asp?e mDo?y\\nB'unWZ&w3lLYqrxqWL.!k'y-GTJiQT-ZFobzKm?\"\n"
          ]
        }
      ]
    },
    {
      "cell_type": "markdown",
      "source": [
        "####Train Model"
      ],
      "metadata": {
        "id": "wWfwopo-BeYC"
      }
    },
    {
      "cell_type": "markdown",
      "source": [
        "#####Tambahan Optimizer dan Fungsi Loss"
      ],
      "metadata": {
        "id": "RMow6SXCBjcS"
      }
    },
    {
      "cell_type": "code",
      "source": [
        "loss = tf.losses.SparseCategoricalCrossentropy(from_logits=True)"
      ],
      "metadata": {
        "id": "6vLDmbiUBm4K"
      },
      "execution_count": null,
      "outputs": []
    },
    {
      "cell_type": "code",
      "source": [
        "example_batch_mean_loss = loss(target_example_batch, example_batch_predictions)\n",
        "print(\"Prediction shape: \", example_batch_predictions.shape, \" # (batch_size, sequence_length, vocab_size)\")\n",
        "print(\"Mean loss:        \", example_batch_mean_loss)"
      ],
      "metadata": {
        "colab": {
          "base_uri": "https://localhost:8080/"
        },
        "id": "aIxrMk1eBopr",
        "outputId": "1c7701c9-e733-4cac-e0c0-b0a83407d916"
      },
      "execution_count": null,
      "outputs": [
        {
          "output_type": "stream",
          "name": "stdout",
          "text": [
            "Prediction shape:  (64, 100, 66)  # (batch_size, sequence_length, vocab_size)\n",
            "Mean loss:         tf.Tensor(4.190194, shape=(), dtype=float32)\n"
          ]
        }
      ]
    },
    {
      "cell_type": "code",
      "source": [
        "tf.exp(example_batch_mean_loss).numpy()"
      ],
      "metadata": {
        "colab": {
          "base_uri": "https://localhost:8080/"
        },
        "id": "ORYLoI2_BtwL",
        "outputId": "805bb1f2-e094-418a-a069-3b2eff00f1b9"
      },
      "execution_count": null,
      "outputs": [
        {
          "output_type": "execute_result",
          "data": {
            "text/plain": [
              "66.03561"
            ]
          },
          "metadata": {},
          "execution_count": 137
        }
      ]
    },
    {
      "cell_type": "markdown",
      "source": [
        "> Konfigurasikan prosedur pelatihan menggunakan metode tf.keras.Model.compile."
      ],
      "metadata": {
        "id": "aQ13aOe-BxCX"
      }
    },
    {
      "cell_type": "code",
      "source": [
        "model.compile(optimizer='adam', loss=loss)"
      ],
      "metadata": {
        "id": "sJGjmOrWB0FU"
      },
      "execution_count": null,
      "outputs": []
    },
    {
      "cell_type": "markdown",
      "source": [
        "#####Konfigurasi Checkpoint"
      ],
      "metadata": {
        "id": "FWQQhOvXB1JV"
      }
    },
    {
      "cell_type": "markdown",
      "source": [
        "> Menggunakan tf.keras.callbacks.ModelCheckpoint untuk memastikan bahwa checkpoint disimpan selama pelatihan:"
      ],
      "metadata": {
        "id": "4GdiKG59B45t"
      }
    },
    {
      "cell_type": "code",
      "source": [
        "# Directory where the checkpoints will be saved\n",
        "checkpoint_dir = './training_checkpoints'\n",
        "# Name of the checkpoint files\n",
        "checkpoint_prefix = os.path.join(checkpoint_dir, \"ckpt_{epoch}\")\n",
        "\n",
        "checkpoint_callback = tf.keras.callbacks.ModelCheckpoint(\n",
        "    filepath=checkpoint_prefix,\n",
        "    save_weights_only=True)"
      ],
      "metadata": {
        "id": "HxpEyro3B8c2"
      },
      "execution_count": null,
      "outputs": []
    },
    {
      "cell_type": "markdown",
      "source": [
        "#####Proses Training"
      ],
      "metadata": {
        "id": "8w7LGQBXB9NF"
      }
    },
    {
      "cell_type": "code",
      "source": [
        "EPOCHS = 30\n",
        "history = model.fit(dataset, epochs=EPOCHS, callbacks=[checkpoint_callback])"
      ],
      "metadata": {
        "colab": {
          "base_uri": "https://localhost:8080/"
        },
        "id": "FqtNzjlnCAiV",
        "outputId": "802dca89-c82b-49c1-cfd3-62bdffdeaf63"
      },
      "execution_count": null,
      "outputs": [
        {
          "output_type": "stream",
          "name": "stdout",
          "text": [
            "Epoch 1/30\n",
            "172/172 [==============================] - 13s 57ms/step - loss: 2.7118\n",
            "Epoch 2/30\n",
            "172/172 [==============================] - 12s 56ms/step - loss: 1.9858\n",
            "Epoch 3/30\n",
            "172/172 [==============================] - 12s 57ms/step - loss: 1.7052\n",
            "Epoch 4/30\n",
            "172/172 [==============================] - 12s 58ms/step - loss: 1.5453\n",
            "Epoch 5/30\n",
            "172/172 [==============================] - 12s 58ms/step - loss: 1.4474\n",
            "Epoch 6/30\n",
            "172/172 [==============================] - 12s 58ms/step - loss: 1.3786\n",
            "Epoch 7/30\n",
            "172/172 [==============================] - 12s 58ms/step - loss: 1.3268\n",
            "Epoch 8/30\n",
            "172/172 [==============================] - 11s 57ms/step - loss: 1.2816\n",
            "Epoch 9/30\n",
            "172/172 [==============================] - 11s 56ms/step - loss: 1.2404\n",
            "Epoch 10/30\n",
            "172/172 [==============================] - 12s 58ms/step - loss: 1.2013\n",
            "Epoch 11/30\n",
            "172/172 [==============================] - 12s 59ms/step - loss: 1.1603\n",
            "Epoch 12/30\n",
            "172/172 [==============================] - 12s 59ms/step - loss: 1.1187\n",
            "Epoch 13/30\n",
            "172/172 [==============================] - 12s 58ms/step - loss: 1.0741\n",
            "Epoch 14/30\n",
            "172/172 [==============================] - 12s 56ms/step - loss: 1.0281\n",
            "Epoch 15/30\n",
            "172/172 [==============================] - 12s 57ms/step - loss: 0.9792\n",
            "Epoch 16/30\n",
            "172/172 [==============================] - 12s 60ms/step - loss: 0.9269\n",
            "Epoch 17/30\n",
            "172/172 [==============================] - 12s 60ms/step - loss: 0.8745\n",
            "Epoch 18/30\n",
            "172/172 [==============================] - 11s 57ms/step - loss: 0.8208\n",
            "Epoch 19/30\n",
            "172/172 [==============================] - 11s 57ms/step - loss: 0.7692\n",
            "Epoch 20/30\n",
            "172/172 [==============================] - 13s 59ms/step - loss: 0.7200\n",
            "Epoch 21/30\n",
            "172/172 [==============================] - 13s 61ms/step - loss: 0.6756\n",
            "Epoch 22/30\n",
            "172/172 [==============================] - 11s 57ms/step - loss: 0.6363\n",
            "Epoch 23/30\n",
            "172/172 [==============================] - 12s 58ms/step - loss: 0.6020\n",
            "Epoch 24/30\n",
            "172/172 [==============================] - 11s 57ms/step - loss: 0.5716\n",
            "Epoch 25/30\n",
            "172/172 [==============================] - 11s 57ms/step - loss: 0.5470\n",
            "Epoch 26/30\n",
            "172/172 [==============================] - 12s 58ms/step - loss: 0.5263\n",
            "Epoch 27/30\n",
            "172/172 [==============================] - 12s 60ms/step - loss: 0.5090\n",
            "Epoch 28/30\n",
            "172/172 [==============================] - 12s 58ms/step - loss: 0.4947\n",
            "Epoch 29/30\n",
            "172/172 [==============================] - 12s 57ms/step - loss: 0.4795\n",
            "Epoch 30/30\n",
            "172/172 [==============================] - 11s 57ms/step - loss: 0.4702\n"
          ]
        }
      ]
    },
    {
      "cell_type": "markdown",
      "source": [
        "#####Generate Teks"
      ],
      "metadata": {
        "id": "hKZywTQ4CC2V"
      }
    },
    {
      "cell_type": "markdown",
      "source": [
        "> membuat prediksi satu langkah:"
      ],
      "metadata": {
        "id": "q9hUyi_iCFyf"
      }
    },
    {
      "cell_type": "code",
      "source": [
        "class OneStep(tf.keras.Model):\n",
        "  def __init__(self, model, chars_from_ids, ids_from_chars, temperature=1.0):\n",
        "    super().__init__()\n",
        "    self.temperature = temperature\n",
        "    self.model = model\n",
        "    self.chars_from_ids = chars_from_ids\n",
        "    self.ids_from_chars = ids_from_chars\n",
        "\n",
        "    # Create a mask to prevent \"[UNK]\" from being generated.\n",
        "    skip_ids = self.ids_from_chars(['[UNK]'])[:, None]\n",
        "    sparse_mask = tf.SparseTensor(\n",
        "        # Put a -inf at each bad index.\n",
        "        values=[-float('inf')]*len(skip_ids),\n",
        "        indices=skip_ids,\n",
        "        # Match the shape to the vocabulary\n",
        "        dense_shape=[len(ids_from_chars.get_vocabulary())])\n",
        "    self.prediction_mask = tf.sparse.to_dense(sparse_mask)\n",
        "\n",
        "  @tf.function\n",
        "  def generate_one_step(self, inputs, states=None):\n",
        "    # Convert strings to token IDs.\n",
        "    input_chars = tf.strings.unicode_split(inputs, 'UTF-8')\n",
        "    input_ids = self.ids_from_chars(input_chars).to_tensor()\n",
        "\n",
        "    # Run the model.\n",
        "    # predicted_logits.shape is [batch, char, next_char_logits]\n",
        "    predicted_logits, states = self.model(inputs=input_ids, states=states,\n",
        "                                          return_state=True)\n",
        "    # Only use the last prediction.\n",
        "    predicted_logits = predicted_logits[:, -1, :]\n",
        "    predicted_logits = predicted_logits/self.temperature\n",
        "    # Apply the prediction mask: prevent \"[UNK]\" from being generated.\n",
        "    predicted_logits = predicted_logits + self.prediction_mask\n",
        "\n",
        "    # Sample the output logits to generate token IDs.\n",
        "    predicted_ids = tf.random.categorical(predicted_logits, num_samples=1)\n",
        "    predicted_ids = tf.squeeze(predicted_ids, axis=-1)\n",
        "\n",
        "    # Convert from token ids to characters\n",
        "    predicted_chars = self.chars_from_ids(predicted_ids)\n",
        "\n",
        "    # Return the characters and model state.\n",
        "    return predicted_chars, states"
      ],
      "metadata": {
        "id": "ZWUmhm__CGi_"
      },
      "execution_count": null,
      "outputs": []
    },
    {
      "cell_type": "code",
      "source": [
        "one_step_model = OneStep(model, chars_from_ids, ids_from_chars)"
      ],
      "metadata": {
        "id": "_bHuySzUEvnA"
      },
      "execution_count": null,
      "outputs": []
    },
    {
      "cell_type": "code",
      "source": [
        "start = time.time()\n",
        "states = None\n",
        "next_char = tf.constant(['ROMEO:'])\n",
        "result = [next_char]\n",
        "\n",
        "for n in range(1000):\n",
        "  next_char, states = one_step_model.generate_one_step(next_char, states=states)\n",
        "  result.append(next_char)\n",
        "\n",
        "result = tf.strings.join(result)\n",
        "end = time.time()\n",
        "print(result[0].numpy().decode('utf-8'), '\\n\\n' + '_'*80)\n",
        "print('\\nRun time:', end - start)"
      ],
      "metadata": {
        "colab": {
          "base_uri": "https://localhost:8080/"
        },
        "id": "qGItYI6VCMEe",
        "outputId": "959fa9dc-a642-4569-97f6-11a8fc40c387"
      },
      "execution_count": null,
      "outputs": [
        {
          "output_type": "stream",
          "name": "stdout",
          "text": [
            "ROMEO:\n",
            "The very letting fearful throne in service,\n",
            "That replains what it is great, the princes head,\n",
            "Having left not to confirm my wife's ends in\n",
            "The season. Cried, heartily:\n",
            "You know not what I lay come to you.\n",
            "\n",
            "Lord:\n",
            "Here is a there, where, she?\n",
            "\n",
            "AUFIDIUS:\n",
            "Every wink,\n",
            "Who golded issue of his father's name in Mariana\n",
            "Ad, cried 'God save thee, of they are at them;\n",
            "But they prettyang instruments for good aid?\n",
            "And were I often has my trencher heir\n",
            "Than all the house. For inspire, which we\n",
            "Come I have singled offer of an are:\n",
            "If thou remember'st my tale: if Henry,\n",
            "Before show thy descent; if your\n",
            "very heart as yet unbree: in all things and usures smote:\n",
            "Pardon me, God, I rumpty love, against our suits is warm.\n",
            "\n",
            "LEONTES:\n",
            "To see your taints profoging the foe,\n",
            "And from the Duke off unhalp'd Edward's wrings good abound.\n",
            "Lord Angelo is separazed for any thing; but if\n",
            "He comes to weap or reasons.\n",
            "\n",
            "HERMIONE:\n",
            "So it is,\n",
            "And these kiss'd instructed arms.\n",
            "\n",
            "BIANCA:\n",
            "Why, here's a fairer dather least in me,\n",
            " \n",
            "\n",
            "________________________________________________________________________________\n",
            "\n",
            "Run time: 3.9817888736724854\n"
          ]
        }
      ]
    },
    {
      "cell_type": "markdown",
      "source": [
        "> contoh di bawah, model menghasilkan 5 keluaran dalam waktu yang hampir sama dengan waktu yang dibutuhkan untuk menghasilkan 1 keluaran di atas."
      ],
      "metadata": {
        "id": "GeOpaU4ICUEY"
      }
    },
    {
      "cell_type": "code",
      "source": [
        "start = time.time()\n",
        "states = None\n",
        "next_char = tf.constant(['ROMEO:', 'ROMEO:', 'ROMEO:', 'ROMEO:', 'ROMEO:'])\n",
        "result = [next_char]\n",
        "\n",
        "for n in range(1000):\n",
        "  next_char, states = one_step_model.generate_one_step(next_char, states=states)\n",
        "  result.append(next_char)\n",
        "\n",
        "result = tf.strings.join(result)\n",
        "end = time.time()\n",
        "print(result, '\\n\\n' + '_'*80)\n",
        "print('\\nRun time:', end - start)"
      ],
      "metadata": {
        "colab": {
          "base_uri": "https://localhost:8080/"
        },
        "id": "BjcJYo6iCVJH",
        "outputId": "7fb00a87-8327-4a77-d075-5b71e84adef8"
      },
      "execution_count": null,
      "outputs": [
        {
          "output_type": "stream",
          "name": "stdout",
          "text": [
            "tf.Tensor(\n",
            "[b\"ROMEO:\\nThe better to the cause. I have fear'd and brok no world!\\nThis dead love's peace upon this pocken royal att\\ncunniniss; spake it forth, though consumed with her extremity,\\nWhich essay neighing gentleman, I would not pardon me;\\nUncover with the prince, affords foregean's\\npulsers.\\n\\nTISTAN:\\n\\nBROKE:\\nCome, thou hast spoke hot ever.\\n\\nANGOLIO:\\nWe must perceaits that we will, in every pate\\nBut tie Anon it meets His woundst told watch?\\nO, but what my poor brief have given him good\\nTill ourselves agroubt? Was this the matter,\\nThe trial of Oxford to Hastings.\\n\\nGLOUCESTER:\\nShe shall not live so bring the prince who straight declined, howbed,\\nTo be necessity look on revenge\\nOn the shadow and tired deligs,\\nEven would have fear'd time to visit them: Edward, cut off,\\nAnd till I pillate it;\\nAnd I am in health! What, ho! your brewicce:\\nGod's worst in good regise, and here long tame\\nAnd with her brains of resolution, where thou must ricke: prove it, in exacianalty,\\nNo wound a flower. There is no truth an\"\n",
            " b\"ROMEO:\\nThe gates more than you'll till of what he was.\\nTherefore it is the queen and her action\\nAs we hear. O my wife!\\nWhy, what a speak toward him with him?\\n\\nShepherd:\\nThe queen MEnglish, but in thy company\\nAt another bencher by herself alone,\\nLaid oppositney. For devour have been more vigwife now\\nTo Have's the wise ten his. To bid him be\\nThe call.\\n\\n\\nCAMILLO:\\nI told her bear-here!' as it may have an interest\\nMay more than or no wound about her:\\nThere lies the sceptre's town; on thy storm's councils,\\nHow she is coming, sir, not with her beauty in her face,\\nAnd bow'd upon Cominius is ten his.\\n\\nJOHN OF GAUNT:\\nCall it a travel that will I.\\nGo, Signior Gremio! King Lewis,\\nAnd yet you'll faint--can true in my pocket sheep\\nTill we banished.\\n\\nMIRANDA:\\nMust I.\\nGo, girl, sweet love.\\n\\nBENVOLIO:\\nAlas, amazement: look to it.\\n\\nRIVERS:\\nSo that, if not vanish'd: I am bound on either thou\\nBut what is writ.\\n\\nLUCENTIO:\\nWhat then?\\n\\nBIONDELLO:\\nHe is all the beggar, that for mine honour,\\nI'll perfect him with Ju\"\n",
            " b\"ROMEO:\\nI'll have this cause. Go you the custim\\nThan can out of the chequer horse.\\nThis is the quend flow with ourself and time.\\nWill you bury to the people, boy?\\n\\nClown:\\nNow, then you not or ware to kill a schollow-haste;\\nA brother is but from a dear as mine hereinination,\\nWhich in their hearts, that he shall touch her with,\\nThreefort you, and all unproofs to keep his love\\nUnto their accursed in the cause. Give me any thing\\nTo blank me: one to thy hour, if Fearlest choler\\nMropasing it.\\n\\nJULIET:\\nWhat is the first queen? such as how offence\\nThou shouts protection with a master of a day\\nAs I have done't--there in a violation\\nOf some sport in hand: in either sense\\nIs painted first: there is no title of rememinaty\\nWench's bolt, being angry boast, but mercy\\nin the painty devirius scalf.\\n\\nMIRANDA:\\nAlas, you slay my honour weigh ride:\\nIf you be birth, and honour leising pieces!\\n\\nDUKE VINCENTIO:\\nThen 'twere pity fellow: this dead madman.'\\n\\nKING EDWARD IV:\\nWhy, so,' is it myself in ears and news, or n\"\n",
            " b\"ROMEO:\\nThe fire as the instrument's in ten.\\n\\nGREMIO:\\nBut that a wish cush of weeks young Deny,'t shall\\nfeel, to keep your faithful service.\\n\\nBUCKINGHAM:\\nWhy, what's your will, the sister of nexe which\\nTo read you to your territy?\\nOr heaven friends shall stay till weep with sounds:\\nHis natural dukes it most often\\nTo make you up their power: I have seen\\nAnd with such an unkindness of his pilgrimage.\\n\\nJULIET:\\nThe lingure of your speech leaden stands;\\nAnd now by them been; this is as deadly voices.\\nMernicate. Lend me the prison, gate\\nYou will be think.\\n\\nAUTOLYCUS:\\nI could wear the gods, but giedly for thee:\\nLascls, I am sure, the flinty ribble whereof,\\nA trembling wings; boy; but not mine own desire\\nIt issue forth of piteous moints\\nAnd stop our monable but my bidding.\\n\\nESCALUS:\\nWhat then?\\nHe was too get them and her repose; you have cause to bed.\\n\\nEDWARD:\\nI mean, then knows him where the heavens all\\nWith cloicy streets, to knock a brace\\nThat which he houself in Padua;\\nWho fear of that report of \"\n",
            " b\"ROMEO:\\nThou retust my father's sake: let me have no\\nlying in the veing of the best: and I would thou knowe\\nthem, I am not men to cross to fight:\\nAnd when we was murdered there;\\nAnd then I am the moved boon.\\nI had again submissive twenty sed:\\nAnd this I wise, though he be in sweet post-horse.\\nHere almost freelight to you thankings, good sir,\\nEven in their mother and to make a second water:\\nAnd when in wood the news, and mortal-face,\\nWhere is your days to do it at the queen.\\n\\nQUEEN MARGARET:\\nI'll leave his neck that way's a back, you mean not\\nTo satisfying and kissing.\\n\\nMurderer:\\nTut, my horse. Turn thy help.\\n\\nOXFORD:\\nWhat then is much deposed, he two bloker forenain.\\n\\nEDWARD:\\nLet me entreat,--fur dowry: where I repent our joys\\nWith tears of bothomity, but who answering\\nFlower and unnatural. O thou art a moint;\\nWhat, wilt thou, good lords, be past when they ne'er a sea,\\nAs if the curses, the peace of the Lady Capulets,\\nShall go by him.\\n\\nISABELLA:\\nO, pity!\\nI, that a view to-morrow nuns to me, g\"], shape=(5,), dtype=string) \n",
            "\n",
            "________________________________________________________________________________\n",
            "\n",
            "Run time: 3.93625807762146\n"
          ]
        }
      ]
    },
    {
      "cell_type": "markdown",
      "source": [
        "#####Ekspor Model Generator"
      ],
      "metadata": {
        "id": "WHXnUGE0CWzH"
      }
    },
    {
      "cell_type": "code",
      "source": [
        "tf.saved_model.save(one_step_model, 'one_step')\n",
        "one_step_reloaded = tf.saved_model.load('one_step')"
      ],
      "metadata": {
        "colab": {
          "base_uri": "https://localhost:8080/"
        },
        "id": "yYjqwGlnCZMn",
        "outputId": "29cada6b-d562-406c-9b2c-a70c467e4b8f"
      },
      "execution_count": null,
      "outputs": [
        {
          "output_type": "stream",
          "name": "stderr",
          "text": [
            "WARNING:tensorflow:Skipping full serialization of Keras layer <__main__.OneStep object at 0x7ed982e7ff40>, because it is not built.\n",
            "WARNING:tensorflow:Model's `__init__()` arguments contain non-serializable objects. Please implement a `get_config()` method in the subclassed Model for proper saving and loading. Defaulting to empty config.\n",
            "WARNING:tensorflow:Model's `__init__()` arguments contain non-serializable objects. Please implement a `get_config()` method in the subclassed Model for proper saving and loading. Defaulting to empty config.\n"
          ]
        }
      ]
    },
    {
      "cell_type": "code",
      "source": [
        "states = None\n",
        "next_char = tf.constant(['ROMEO:'])\n",
        "result = [next_char]\n",
        "\n",
        "for n in range(100):\n",
        "  next_char, states = one_step_reloaded.generate_one_step(next_char, states=states)\n",
        "  result.append(next_char)\n",
        "\n",
        "print(tf.strings.join(result)[0].numpy().decode(\"utf-8\"))"
      ],
      "metadata": {
        "colab": {
          "base_uri": "https://localhost:8080/"
        },
        "id": "3KhApavECa9w",
        "outputId": "af8c39b2-5890-424c-8ea0-f20c342a3142"
      },
      "execution_count": null,
      "outputs": [
        {
          "output_type": "stream",
          "name": "stdout",
          "text": [
            "ROMEO:\n",
            "The queen your most relood, to\n",
            "report, some think it well and love him well.\n",
            "\n",
            "FRIAR LAURENCE:\n",
            "Who s\n"
          ]
        }
      ]
    },
    {
      "cell_type": "markdown",
      "source": [
        "###Tugas Praktikum"
      ],
      "metadata": {
        "id": "6Ybrmft1FHeD"
      }
    },
    {
      "cell_type": "markdown",
      "source": [
        "Prosedur pelatihan pada praktikum 2 merupakan prosedur sederhana, yang tidak memberi Anda banyak kendali. Model ini menggunakan \"teacher-forcing\" yang mencegah prediksi buruk diumpankan kembali ke model, sehingga model tidak pernah belajar untuk pulih dari kesalahan. Jadi, setelah Anda melihat cara menjalankan model secara manual, selanjutnya Anda akan mengimplementasikan custom loop pelatihan. Hal ini memberikan titik awal jika, misalnya, Anda ingin menerapkan pembelajaran kurikulum untuk membantu menstabilkan keluaran open-loop model. Bagian terpenting dari loop pelatihan khusus adalah fungsi langkah pelatihan."
      ],
      "metadata": {
        "id": "_AMwx5-XFMMD"
      }
    },
    {
      "cell_type": "markdown",
      "source": [
        "Gunakan tf.GradientTape untuk men track nilai gradient. Anda dapat mempelajari lebih lanjut tentang pendekatan ini dengan membaca eager execution guide."
      ],
      "metadata": {
        "id": "m38o61_TFPl0"
      }
    },
    {
      "cell_type": "markdown",
      "source": [
        "Prosedurnya adalah \"\n",
        "1. Jalankan Model dan hitung loss dengan tf.\n",
        "GradientTape.\n",
        "2. Hitung update dan terapkan pada model dengan optimizer"
      ],
      "metadata": {
        "id": "GVudUfyeFSI0"
      }
    },
    {
      "cell_type": "code",
      "source": [
        "class CustomTraining(MyModel):\n",
        "  @tf.function\n",
        "  def train_step(self, inputs):\n",
        "      inputs, labels = inputs\n",
        "      with tf.GradientTape() as tape:\n",
        "          predictions = self(inputs, training=True)\n",
        "          loss = self.loss(labels, predictions)\n",
        "      grads = tape.gradient(loss, model.trainable_variables)\n",
        "      self.optimizer.apply_gradients(zip(grads, model.trainable_variables))\n",
        "\n",
        "      return {'loss': loss}"
      ],
      "metadata": {
        "id": "dqpljytqFYQV"
      },
      "execution_count": null,
      "outputs": []
    },
    {
      "cell_type": "code",
      "source": [
        "model = CustomTraining(\n",
        "    vocab_size=len(ids_from_chars.get_vocabulary()),\n",
        "    embedding_dim=embedding_dim,\n",
        "    rnn_units=rnn_units)"
      ],
      "metadata": {
        "id": "2va_OKbgFZYF"
      },
      "execution_count": null,
      "outputs": []
    },
    {
      "cell_type": "code",
      "source": [
        "model.compile(optimizer = tf.keras.optimizers.Adam(),\n",
        "              loss=tf.keras.losses.SparseCategoricalCrossentropy(from_logits=True))"
      ],
      "metadata": {
        "id": "p1BRduBGFaAN"
      },
      "execution_count": null,
      "outputs": []
    },
    {
      "cell_type": "code",
      "source": [
        "model.fit(dataset, epochs=1)"
      ],
      "metadata": {
        "colab": {
          "base_uri": "https://localhost:8080/"
        },
        "id": "Q8bqk7FLFcAH",
        "outputId": "873a39af-c9f7-4076-adab-e22c7449fbcc"
      },
      "execution_count": null,
      "outputs": [
        {
          "output_type": "stream",
          "name": "stdout",
          "text": [
            "172/172 [==============================] - 17s 65ms/step - loss: 2.7178\n"
          ]
        },
        {
          "output_type": "execute_result",
          "data": {
            "text/plain": [
              "<keras.src.callbacks.History at 0x7ed97b27d090>"
            ]
          },
          "metadata": {},
          "execution_count": 152
        }
      ]
    },
    {
      "cell_type": "code",
      "source": [
        "EPOCHS = 10\n",
        "\n",
        "mean = tf.metrics.Mean()\n",
        "\n",
        "for epoch in range(EPOCHS):\n",
        "    start = time.time()\n",
        "\n",
        "    mean.reset_states()\n",
        "    for (batch_n, (inp, target)) in enumerate(dataset):\n",
        "        logs = model.train_step([inp, target])\n",
        "        mean.update_state(logs['loss'])\n",
        "\n",
        "        if batch_n % 50 == 0:\n",
        "            template = f\"Epoch {epoch+1} Batch {batch_n} Loss {logs['loss']:.4f}\"\n",
        "            print(template)\n",
        "\n",
        "    # saving (checkpoint) the model every 5 epochs\n",
        "    if (epoch + 1) % 5 == 0:\n",
        "        model.save_weights(checkpoint_prefix.format(epoch=epoch))\n",
        "\n",
        "    print()\n",
        "    print(f'Epoch {epoch+1} Loss: {mean.result().numpy():.4f}')\n",
        "    print(f'Time taken for 1 epoch {time.time() - start:.2f} sec')\n",
        "    print(\"_\"*80)\n",
        "\n",
        "model.save_weights(checkpoint_prefix.format(epoch=epoch))"
      ],
      "metadata": {
        "colab": {
          "base_uri": "https://localhost:8080/"
        },
        "id": "dpsQ2dL_Fc79",
        "outputId": "343a67e6-2dc6-473e-b65a-625ec80c7e4e"
      },
      "execution_count": null,
      "outputs": [
        {
          "output_type": "stream",
          "name": "stdout",
          "text": [
            "Epoch 1 Batch 0 Loss 2.1661\n",
            "Epoch 1 Batch 50 Loss 2.0753\n",
            "Epoch 1 Batch 100 Loss 1.9304\n",
            "Epoch 1 Batch 150 Loss 1.8331\n",
            "\n",
            "Epoch 1 Loss: 1.9877\n",
            "Time taken for 1 epoch 12.42 sec\n",
            "________________________________________________________________________________\n",
            "Epoch 2 Batch 0 Loss 1.8045\n",
            "Epoch 2 Batch 50 Loss 1.7518\n",
            "Epoch 2 Batch 100 Loss 1.6894\n",
            "Epoch 2 Batch 150 Loss 1.6336\n",
            "\n",
            "Epoch 2 Loss: 1.7096\n",
            "Time taken for 1 epoch 10.78 sec\n",
            "________________________________________________________________________________\n",
            "Epoch 3 Batch 0 Loss 1.6441\n",
            "Epoch 3 Batch 50 Loss 1.5622\n",
            "Epoch 3 Batch 100 Loss 1.5549\n",
            "Epoch 3 Batch 150 Loss 1.5104\n",
            "\n",
            "Epoch 3 Loss: 1.5479\n",
            "Time taken for 1 epoch 10.90 sec\n",
            "________________________________________________________________________________\n",
            "Epoch 4 Batch 0 Loss 1.5050\n",
            "Epoch 4 Batch 50 Loss 1.4427\n",
            "Epoch 4 Batch 100 Loss 1.4720\n",
            "Epoch 4 Batch 150 Loss 1.4539\n",
            "\n",
            "Epoch 4 Loss: 1.4494\n",
            "Time taken for 1 epoch 10.97 sec\n",
            "________________________________________________________________________________\n",
            "Epoch 5 Batch 0 Loss 1.4317\n",
            "Epoch 5 Batch 50 Loss 1.3635\n",
            "Epoch 5 Batch 100 Loss 1.4108\n",
            "Epoch 5 Batch 150 Loss 1.3483\n",
            "\n",
            "Epoch 5 Loss: 1.3819\n",
            "Time taken for 1 epoch 11.50 sec\n",
            "________________________________________________________________________________\n",
            "Epoch 6 Batch 0 Loss 1.3106\n",
            "Epoch 6 Batch 50 Loss 1.3560\n",
            "Epoch 6 Batch 100 Loss 1.3638\n",
            "Epoch 6 Batch 150 Loss 1.3537\n",
            "\n",
            "Epoch 6 Loss: 1.3291\n",
            "Time taken for 1 epoch 12.22 sec\n",
            "________________________________________________________________________________\n",
            "Epoch 7 Batch 0 Loss 1.2755\n",
            "Epoch 7 Batch 50 Loss 1.2719\n",
            "Epoch 7 Batch 100 Loss 1.3272\n",
            "Epoch 7 Batch 150 Loss 1.2898\n",
            "\n",
            "Epoch 7 Loss: 1.2850\n",
            "Time taken for 1 epoch 11.19 sec\n",
            "________________________________________________________________________________\n",
            "Epoch 8 Batch 0 Loss 1.2349\n",
            "Epoch 8 Batch 50 Loss 1.2593\n",
            "Epoch 8 Batch 100 Loss 1.2332\n",
            "Epoch 8 Batch 150 Loss 1.2724\n",
            "\n",
            "Epoch 8 Loss: 1.2443\n",
            "Time taken for 1 epoch 11.17 sec\n",
            "________________________________________________________________________________\n",
            "Epoch 9 Batch 0 Loss 1.1983\n",
            "Epoch 9 Batch 50 Loss 1.1675\n",
            "Epoch 9 Batch 100 Loss 1.2422\n",
            "Epoch 9 Batch 150 Loss 1.2424\n",
            "\n",
            "Epoch 9 Loss: 1.2049\n",
            "Time taken for 1 epoch 12.11 sec\n",
            "________________________________________________________________________________\n",
            "Epoch 10 Batch 0 Loss 1.1292\n",
            "Epoch 10 Batch 50 Loss 1.1609\n",
            "Epoch 10 Batch 100 Loss 1.1659\n",
            "Epoch 10 Batch 150 Loss 1.2173\n",
            "\n",
            "Epoch 10 Loss: 1.1662\n",
            "Time taken for 1 epoch 20.58 sec\n",
            "________________________________________________________________________________\n"
          ]
        }
      ]
    },
    {
      "cell_type": "markdown",
      "source": [
        "> Jalankan kode diatas dan sebutkan perbedaanya dengan praktikum 2?"
      ],
      "metadata": {
        "id": "OSi842hdFiUW"
      }
    },
    {
      "cell_type": "markdown",
      "source": [
        "> Perbedaan kode diatas dengan praktikum 2 yaitu pada praktikum 2 tidak memberi kita banyak kendali atas pelatihan. praktikum 2 menggunakan \"teacher-forcing\" yang mencegah prediksi buruk diumpankan kembali ke model, sehingga model tidak pernah belajar untuk pulih dari kesalahan."
      ],
      "metadata": {
        "id": "kSomQ0fhFlW2"
      }
    }
  ],
  "metadata": {
    "colab": {
      "provenance": [],
      "gpuType": "T4",
      "include_colab_link": true
    },
    "kernelspec": {
      "display_name": "Python 3",
      "name": "python3"
    },
    "language_info": {
      "codemirror_mode": {
        "name": "ipython",
        "version": 3
      },
      "file_extension": ".py",
      "mimetype": "text/x-python",
      "name": "python",
      "nbconvert_exporter": "python",
      "pygments_lexer": "ipython3",
      "version": "3.11.6"
    },
    "accelerator": "GPU"
  },
  "nbformat": 4,
  "nbformat_minor": 0
}